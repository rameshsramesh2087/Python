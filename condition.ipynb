{
 "cells": [
  {
   "cell_type": "code",
   "execution_count": 1,
   "id": "191355c3",
   "metadata": {},
   "outputs": [
    {
     "name": "stdout",
     "output_type": "stream",
     "text": [
      "b is greater\n"
     ]
    }
   ],
   "source": [
    "# condition statement\n",
    "a=10\n",
    "b=20\n",
    "if a>b:\n",
    "    print('a is greater')\n",
    "else:\n",
    "    print('b is greater')    "
   ]
  },
  {
   "cell_type": "code",
   "execution_count": 3,
   "id": "4df14742",
   "metadata": {},
   "outputs": [
    {
     "name": "stdout",
     "output_type": "stream",
     "text": [
      "addition operation : 44\n"
     ]
    }
   ],
   "source": [
    "a=int(input('enter your value:'))\n",
    "b=int(input('second value enter:'))\n",
    "c=str(input('enter operation add, sub:'))\n",
    "if c=='add':\n",
    "    print('addition operation :',a+b)\n",
    "elif c=='sub':\n",
    "    print('subtraction operation:',a-b)    "
   ]
  },
  {
   "cell_type": "code",
   "execution_count": null,
   "id": "a83fb6dd",
   "metadata": {},
   "outputs": [
    {
     "name": "stdout",
     "output_type": "stream",
     "text": [
      "bhavani your are eligible for bangalore colleges\n"
     ]
    }
   ],
   "source": [
    "name=str(input('enter in your name:'))\n",
    "a=int(input('enter in your percentage(0-100):'))\n",
    "b=str(input('enter in your gender(F/M):'))\n",
    "if b=='M':\n",
    "    if a>=0 and a<=34:\n",
    "        print(name,'sorry you are not eligible ')\n",
    "    elif a>=35 and a<=50:\n",
    "        print(name,'you are eligible for chennai colleges')\n",
    "    elif a>=51 and a<=70:\n",
    "        print(name,'your are eligible for bangalore colleges')\n",
    "    elif a>=71 and a<=100:\n",
    "        print(name,'you are eligible delhi colleges') \n",
    "    else:\n",
    "        print('invlid')           \n",
    "elif b==\"F\":\n",
    "     if a>=0 and a<=34:\n",
    "        print(name,'sorry you are not eligible ')\n",
    "     elif a>=35 and a<=50:\n",
    "        print(name,'you are eligible for chennai colleges')\n",
    "     elif a>=51 and a<=70:\n",
    "        print(name,'your are eligible for bangalore colleges')\n",
    "     elif a>=71 and a<=100:\n",
    "        print(name,'you are eligible delhi colleges') \n",
    "     else:\n",
    "        print('invlid')   \n",
    "else:\n",
    "    print('invalid')        \n"
   ]
  },
  {
   "cell_type": "code",
   "execution_count": 3,
   "id": "84898483",
   "metadata": {},
   "outputs": [
    {
     "name": "stdout",
     "output_type": "stream",
     "text": [
      "b is greatr\n"
     ]
    }
   ],
   "source": [
    "a=int(input('enter your first value:'))\n",
    "b=int(input('enter your second value:'))\n",
    "c=int(input('enter your third value:'))\n",
    "if a>c and a>b:\n",
    "    print('a is grater') \n",
    "elif b>a and b>c:\n",
    "    print('b is greatr')\n",
    "elif c>a and c>b:\n",
    "    print('c is grater than')\n",
    "else:\n",
    "    print('invalid')\n"
   ]
  },
  {
   "cell_type": "code",
   "execution_count": null,
   "id": "a2b7b6ee",
   "metadata": {},
   "outputs": [],
   "source": []
  }
 ],
 "metadata": {
  "kernelspec": {
   "display_name": "base",
   "language": "python",
   "name": "python3"
  },
  "language_info": {
   "codemirror_mode": {
    "name": "ipython",
    "version": 3
   },
   "file_extension": ".py",
   "mimetype": "text/x-python",
   "name": "python",
   "nbconvert_exporter": "python",
   "pygments_lexer": "ipython3",
   "version": "3.12.7"
  }
 },
 "nbformat": 4,
 "nbformat_minor": 5
}
