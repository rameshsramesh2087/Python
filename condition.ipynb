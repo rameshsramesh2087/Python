{
 "cells": [
  {
   "cell_type": "code",
   "execution_count": 1,
   "id": "191355c3",
   "metadata": {},
   "outputs": [
    {
     "name": "stdout",
     "output_type": "stream",
     "text": [
      "b is greater\n"
     ]
    }
   ],
   "source": [
    "# condition statement\n",
    "a=10\n",
    "b=20\n",
    "if a>b:\n",
    "    print('a is greater')\n",
    "else:\n",
    "    print('b is greater')    "
   ]
  },
  {
   "cell_type": "code",
   "execution_count": 3,
   "id": "4df14742",
   "metadata": {},
   "outputs": [
    {
     "name": "stdout",
     "output_type": "stream",
     "text": [
      "addition operation : 44\n"
     ]
    }
   ],
   "source": [
    "a=int(input('enter your value:'))\n",
    "b=int(input('second value enter:'))\n",
    "c=str(input('enter operation add, sub:'))\n",
    "if c=='add':\n",
    "    print('addition operation :',a+b)\n",
    "elif c=='sub':\n",
    "    print('subtraction operation:',a-b)    "
   ]
  },
  {
   "cell_type": "code",
   "execution_count": null,
   "id": "a83fb6dd",
   "metadata": {},
   "outputs": [],
   "source": []
  }
 ],
 "metadata": {
  "kernelspec": {
   "display_name": "base",
   "language": "python",
   "name": "python3"
  },
  "language_info": {
   "codemirror_mode": {
    "name": "ipython",
    "version": 3
   },
   "file_extension": ".py",
   "mimetype": "text/x-python",
   "name": "python",
   "nbconvert_exporter": "python",
   "pygments_lexer": "ipython3",
   "version": "3.12.7"
  }
 },
 "nbformat": 4,
 "nbformat_minor": 5
}
