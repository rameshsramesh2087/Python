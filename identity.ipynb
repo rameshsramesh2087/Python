{
 "cells": [
  {
   "cell_type": "markdown",
   "id": "a429bdad",
   "metadata": {},
   "source": [
    "identity operator"
   ]
  },
  {
   "cell_type": "code",
   "execution_count": null,
   "id": "51fe62c1",
   "metadata": {
    "vscode": {
     "languageId": "plaintext"
    }
   },
   "outputs": [],
   "source": []
  }
 ],
 "metadata": {
  "language_info": {
   "name": "python"
  }
 },
 "nbformat": 4,
 "nbformat_minor": 5
}
