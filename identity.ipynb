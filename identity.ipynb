{
 "cells": [
  {
   "cell_type": "markdown",
   "id": "a429bdad",
   "metadata": {},
   "source": [
    "identity operator"
   ]
  },
  {
   "cell_type": "code",
   "execution_count": 4,
   "id": "51fe62c1",
   "metadata": {},
   "outputs": [
    {
     "name": "stdout",
     "output_type": "stream",
     "text": [
      "False\n",
      "True\n",
      "True\n",
      "True\n"
     ]
    }
   ],
   "source": [
    "a=['apple','banana']\n",
    "c=['apple','banana']\n",
    "d=a\n",
    "print(a is c)\n",
    "print(a is not c)\n",
    "print(a==c)\n",
    "print(a is d)"
   ]
  },
  {
   "cell_type": "code",
   "execution_count": 8,
   "id": "a60121e2",
   "metadata": {},
   "outputs": [
    {
     "name": "stdout",
     "output_type": "stream",
     "text": [
      "True\n",
      "False\n"
     ]
    }
   ],
   "source": [
    "a=257\n",
    "b=257\n",
    "print(a==b)\n",
    "print(a is b)"
   ]
  },
  {
   "cell_type": "code",
   "execution_count": 9,
   "id": "f9a2519d",
   "metadata": {},
   "outputs": [
    {
     "name": "stdout",
     "output_type": "stream",
     "text": [
      "False\n",
      "True\n"
     ]
    }
   ],
   "source": [
    "a=256\n",
    "b=256\n",
    "print(a is not b)\n",
    "print(b is a)"
   ]
  },
  {
   "cell_type": "code",
   "execution_count": null,
   "id": "5a315277",
   "metadata": {},
   "outputs": [],
   "source": []
  }
 ],
 "metadata": {
  "kernelspec": {
   "display_name": "base",
   "language": "python",
   "name": "python3"
  },
  "language_info": {
   "codemirror_mode": {
    "name": "ipython",
    "version": 3
   },
   "file_extension": ".py",
   "mimetype": "text/x-python",
   "name": "python",
   "nbconvert_exporter": "python",
   "pygments_lexer": "ipython3",
   "version": "3.12.7"
  }
 },
 "nbformat": 4,
 "nbformat_minor": 5
}
