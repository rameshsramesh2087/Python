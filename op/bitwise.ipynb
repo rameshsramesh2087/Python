{
 "cells": [
  {
   "cell_type": "markdown",
   "id": "d8d304d9",
   "metadata": {},
   "source": [
    "64   32   16   8   4   2    1"
   ]
  },
  {
   "cell_type": "code",
   "execution_count": 3,
   "id": "6d00c19d",
   "metadata": {},
   "outputs": [
    {
     "name": "stdout",
     "output_type": "stream",
     "text": [
      "8\n"
     ]
    }
   ],
   "source": [
    "print(24 & 44)"
   ]
  },
  {
   "cell_type": "code",
   "execution_count": 6,
   "id": "e5694ee1",
   "metadata": {},
   "outputs": [
    {
     "name": "stdout",
     "output_type": "stream",
     "text": [
      "11\n"
     ]
    }
   ],
   "source": [
    "print(10|3)"
   ]
  },
  {
   "cell_type": "code",
   "execution_count": 7,
   "id": "236d873a",
   "metadata": {},
   "outputs": [
    {
     "name": "stdout",
     "output_type": "stream",
     "text": [
      "-3\n"
     ]
    }
   ],
   "source": [
    "print(~2)"
   ]
  },
  {
   "cell_type": "code",
   "execution_count": 8,
   "id": "b8a6f859",
   "metadata": {},
   "outputs": [
    {
     "name": "stdout",
     "output_type": "stream",
     "text": [
      "4\n"
     ]
    }
   ],
   "source": [
    "print(~-5)"
   ]
  },
  {
   "cell_type": "code",
   "execution_count": 9,
   "id": "572ca969",
   "metadata": {},
   "outputs": [
    {
     "name": "stdout",
     "output_type": "stream",
     "text": [
      "2\n"
     ]
    }
   ],
   "source": [
    "print(8>>2)"
   ]
  },
  {
   "cell_type": "code",
   "execution_count": null,
   "id": "a998e8ea",
   "metadata": {},
   "outputs": [],
   "source": []
  }
 ],
 "metadata": {
  "kernelspec": {
   "display_name": "base",
   "language": "python",
   "name": "python3"
  },
  "language_info": {
   "codemirror_mode": {
    "name": "ipython",
    "version": 3
   },
   "file_extension": ".py",
   "mimetype": "text/x-python",
   "name": "python",
   "nbconvert_exporter": "python",
   "pygments_lexer": "ipython3",
   "version": "3.12.7"
  }
 },
 "nbformat": 4,
 "nbformat_minor": 5
}
