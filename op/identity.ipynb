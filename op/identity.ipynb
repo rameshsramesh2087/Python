{
 "cells": [
  {
   "cell_type": "code",
   "execution_count": 3,
   "id": "cb4fdf01",
   "metadata": {},
   "outputs": [
    {
     "name": "stdout",
     "output_type": "stream",
     "text": [
      "True\n",
      "False\n",
      "True\n"
     ]
    }
   ],
   "source": [
    "s=[1,2,3,4]\n",
    "c=s\n",
    "b=[1,2,3,4,5]\n",
    "print(s is c)\n",
    "print(s is b)\n",
    "print(s is not b)"
   ]
  },
  {
   "cell_type": "code",
   "execution_count": 4,
   "id": "6f979b33",
   "metadata": {},
   "outputs": [
    {
     "name": "stdout",
     "output_type": "stream",
     "text": [
      "2545418992256 2545418992256\n",
      "2545418898496\n"
     ]
    }
   ],
   "source": [
    "print(id(s),id(c))\n",
    "print(id(b))"
   ]
  },
  {
   "cell_type": "code",
   "execution_count": 6,
   "id": "4ab94ac8",
   "metadata": {},
   "outputs": [
    {
     "name": "stdout",
     "output_type": "stream",
     "text": [
      "False\n",
      "True\n"
     ]
    }
   ],
   "source": [
    "# membership\n",
    "a=['ramesh','arul']\n",
    "print('ramesh' not in a)\n",
    "print('arul' in a)"
   ]
  },
  {
   "cell_type": "code",
   "execution_count": null,
   "id": "51777f2f",
   "metadata": {},
   "outputs": [],
   "source": []
  }
 ],
 "metadata": {
  "kernelspec": {
   "display_name": "base",
   "language": "python",
   "name": "python3"
  },
  "language_info": {
   "codemirror_mode": {
    "name": "ipython",
    "version": 3
   },
   "file_extension": ".py",
   "mimetype": "text/x-python",
   "name": "python",
   "nbconvert_exporter": "python",
   "pygments_lexer": "ipython3",
   "version": "3.12.7"
  }
 },
 "nbformat": 4,
 "nbformat_minor": 5
}
