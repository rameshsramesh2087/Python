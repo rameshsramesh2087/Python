{
 "cells": [
  {
   "cell_type": "code",
   "execution_count": 1,
   "id": "c67441fc",
   "metadata": {},
   "outputs": [
    {
     "name": "stdout",
     "output_type": "stream",
     "text": [
      "True\n",
      "False\n",
      "True\n"
     ]
    }
   ],
   "source": [
    "print(5==5)\n",
    "print(5==4)\n",
    "print(5!=4)"
   ]
  },
  {
   "cell_type": "code",
   "execution_count": 6,
   "id": "14689496",
   "metadata": {},
   "outputs": [
    {
     "name": "stdout",
     "output_type": "stream",
     "text": [
      "True\n",
      "False\n",
      "False\n",
      "False\n"
     ]
    }
   ],
   "source": [
    "print(10>5)\n",
    "print(33>100)\n",
    "print(44>44)\n",
    "print(44>44.5)"
   ]
  },
  {
   "cell_type": "code",
   "execution_count": 12,
   "id": "508a8131",
   "metadata": {},
   "outputs": [
    {
     "name": "stdout",
     "output_type": "stream",
     "text": [
      "True\n",
      "True\n",
      "True\n",
      "False\n",
      "True\n"
     ]
    }
   ],
   "source": [
    "print(45>=44)\n",
    "print(100>=95)\n",
    "print(44<=100)\n",
    "print(22<=10)\n",
    "print(55<=77)"
   ]
  },
  {
   "cell_type": "code",
   "execution_count": null,
   "id": "a9becb21",
   "metadata": {},
   "outputs": [],
   "source": []
  }
 ],
 "metadata": {
  "kernelspec": {
   "display_name": "base",
   "language": "python",
   "name": "python3"
  },
  "language_info": {
   "codemirror_mode": {
    "name": "ipython",
    "version": 3
   },
   "file_extension": ".py",
   "mimetype": "text/x-python",
   "name": "python",
   "nbconvert_exporter": "python",
   "pygments_lexer": "ipython3",
   "version": "3.12.7"
  }
 },
 "nbformat": 4,
 "nbformat_minor": 5
}
