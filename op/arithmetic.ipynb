{
 "cells": [
  {
   "cell_type": "code",
   "execution_count": 1,
   "id": "e63984fa",
   "metadata": {},
   "outputs": [
    {
     "name": "stdout",
     "output_type": "stream",
     "text": [
      "15\n"
     ]
    }
   ],
   "source": [
    "print(11+4)"
   ]
  },
  {
   "cell_type": "code",
   "execution_count": 2,
   "id": "2a5d8d23",
   "metadata": {},
   "outputs": [
    {
     "name": "stdout",
     "output_type": "stream",
     "text": [
      "-11\n"
     ]
    }
   ],
   "source": [
    "print(22-33)"
   ]
  },
  {
   "cell_type": "code",
   "execution_count": 3,
   "id": "a5ad7263",
   "metadata": {},
   "outputs": [
    {
     "name": "stdout",
     "output_type": "stream",
     "text": [
      "1210\n"
     ]
    }
   ],
   "source": [
    "print(22*55)"
   ]
  },
  {
   "cell_type": "code",
   "execution_count": 4,
   "id": "e091a5df",
   "metadata": {},
   "outputs": [
    {
     "name": "stdout",
     "output_type": "stream",
     "text": [
      "1452\n"
     ]
    }
   ],
   "source": [
    "print(44*33)"
   ]
  },
  {
   "cell_type": "code",
   "execution_count": 5,
   "id": "2edc3ddc",
   "metadata": {},
   "outputs": [
    {
     "name": "stdout",
     "output_type": "stream",
     "text": [
      "25.666666666666668\n"
     ]
    }
   ],
   "source": [
    "print(77/3)"
   ]
  },
  {
   "cell_type": "code",
   "execution_count": 8,
   "id": "e80b19ba",
   "metadata": {},
   "outputs": [
    {
     "name": "stdout",
     "output_type": "stream",
     "text": [
      "25\n"
     ]
    }
   ],
   "source": [
    "print(77//3)"
   ]
  },
  {
   "cell_type": "code",
   "execution_count": 12,
   "id": "8138a98a",
   "metadata": {},
   "outputs": [
    {
     "name": "stdout",
     "output_type": "stream",
     "text": [
      "1\n"
     ]
    }
   ],
   "source": [
    "print(73%2)"
   ]
  },
  {
   "cell_type": "code",
   "execution_count": null,
   "id": "fe97f406",
   "metadata": {},
   "outputs": [],
   "source": []
  }
 ],
 "metadata": {
  "kernelspec": {
   "display_name": "base",
   "language": "python",
   "name": "python3"
  },
  "language_info": {
   "codemirror_mode": {
    "name": "ipython",
    "version": 3
   },
   "file_extension": ".py",
   "mimetype": "text/x-python",
   "name": "python",
   "nbconvert_exporter": "python",
   "pygments_lexer": "ipython3",
   "version": "3.12.7"
  }
 },
 "nbformat": 4,
 "nbformat_minor": 5
}
