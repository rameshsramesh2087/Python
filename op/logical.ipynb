{
 "cells": [
  {
   "cell_type": "code",
   "execution_count": 4,
   "id": "1351d2a0",
   "metadata": {},
   "outputs": [
    {
     "name": "stdout",
     "output_type": "stream",
     "text": [
      "True\n",
      "True\n",
      "False\n",
      "False\n"
     ]
    }
   ],
   "source": [
    "print(10>5 and 5<100)\n",
    "print(100>=30 and 200<=1000)\n",
    "print(100==100 and 33==30)\n",
    "print(100>=200 and 300>=100)"
   ]
  },
  {
   "cell_type": "code",
   "execution_count": 7,
   "id": "b7d0ceb8",
   "metadata": {},
   "outputs": [
    {
     "name": "stdout",
     "output_type": "stream",
     "text": [
      "True\n",
      "True\n"
     ]
    }
   ],
   "source": [
    "print(2==2 or 2!=2)\n",
    "print(55==100 or 100>=30)"
   ]
  },
  {
   "cell_type": "code",
   "execution_count": 10,
   "id": "372e7334",
   "metadata": {},
   "outputs": [
    {
     "name": "stdout",
     "output_type": "stream",
     "text": [
      "False\n",
      "True\n"
     ]
    }
   ],
   "source": [
    "print(not(True and True))\n",
    "print(not(False and True))"
   ]
  },
  {
   "cell_type": "code",
   "execution_count": null,
   "id": "6498e076",
   "metadata": {},
   "outputs": [],
   "source": []
  }
 ],
 "metadata": {
  "kernelspec": {
   "display_name": "base",
   "language": "python",
   "name": "python3"
  },
  "language_info": {
   "codemirror_mode": {
    "name": "ipython",
    "version": 3
   },
   "file_extension": ".py",
   "mimetype": "text/x-python",
   "name": "python",
   "nbconvert_exporter": "python",
   "pygments_lexer": "ipython3",
   "version": "3.12.7"
  }
 },
 "nbformat": 4,
 "nbformat_minor": 5
}
