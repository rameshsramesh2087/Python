{
 "cells": [
  {
   "cell_type": "code",
   "execution_count": 1,
   "id": "e77f1909",
   "metadata": {},
   "outputs": [
    {
     "name": "stdout",
     "output_type": "stream",
     "text": [
      "6\n",
      "<class 'set'>\n",
      "{1, 2, 3, 4, 5, 6}\n"
     ]
    }
   ],
   "source": [
    "a={1,2,3,4,5,6}\n",
    "print(len(a))\n",
    "print(type(a))\n",
    "print(a)"
   ]
  },
  {
   "cell_type": "code",
   "execution_count": null,
   "id": "b27e5594",
   "metadata": {},
   "outputs": [
    {
     "name": "stdout",
     "output_type": "stream",
     "text": [
      "{'apple', 'lemon', 'pineapple', 'cherry', 'banana'}\n"
     ]
    }
   ],
   "source": [
    "# add items in set add()\n",
    "a={'apple','cherry','banana'}\n",
    "a.add('pineapple')\n",
    "a.add('lemon')\n",
    "print(a)"
   ]
  },
  {
   "cell_type": "code",
   "execution_count": null,
   "id": "02168bd3",
   "metadata": {},
   "outputs": [
    {
     "name": "stdout",
     "output_type": "stream",
     "text": [
      "{0, True, 'apple', 'lemon', 'pineapple', 'cherry', 'banana'}\n"
     ]
    }
   ],
   "source": [
    "# update used to add another set in this set\n",
    "a={'apple', 'lemon', 'pineapple', 'cherry', 'banana'}\n",
    "c={True,1,0,False}\n",
    "c.update(a)\n",
    "print(c)"
   ]
  },
  {
   "cell_type": "code",
   "execution_count": 7,
   "id": "a28cccbc",
   "metadata": {},
   "outputs": [
    {
     "data": {
      "text/plain": [
       "{0, 'banana', 'cherry', 'lemon', 'pineapple'}"
      ]
     },
     "execution_count": 7,
     "metadata": {},
     "output_type": "execute_result"
    }
   ],
   "source": [
    "# remove used to remove specific set items\n",
    "c1={0, True, 'apple', 'lemon', 'pineapple', 'cherry', 'banana'}\n",
    "c1.remove(1)\n",
    "c1.remove('apple')\n",
    "c1\n"
   ]
  },
  {
   "cell_type": "code",
   "execution_count": 8,
   "id": "31828738",
   "metadata": {},
   "outputs": [
    {
     "data": {
      "text/plain": [
       "{'banana', 'cherry', 'lemon', 'pineapple'}"
      ]
     },
     "execution_count": 8,
     "metadata": {},
     "output_type": "execute_result"
    }
   ],
   "source": [
    "# discard remove specific values\n",
    "z1={0, True, 'apple', 'lemon', 'pineapple', 'cherry', 'banana'}\n",
    "z1.discard('apple')\n",
    "z1.discard(1)\n",
    "z1.discard(False)\n",
    "z1"
   ]
  },
  {
   "cell_type": "code",
   "execution_count": 9,
   "id": "b9ef270e",
   "metadata": {},
   "outputs": [],
   "source": [
    "x1={0, True, 'apple', 'lemon', 'pineapple', 'cherry', 'banana'}\n",
    "del x1"
   ]
  },
  {
   "cell_type": "code",
   "execution_count": 10,
   "id": "988f54c2",
   "metadata": {},
   "outputs": [],
   "source": [
    "c1={0, True, 'apple', 'lemon', 'pineapple', 'cherry', 'banana'}\n",
    "c1.clear()"
   ]
  },
  {
   "cell_type": "code",
   "execution_count": null,
   "id": "fd3e5133",
   "metadata": {},
   "outputs": [
    {
     "name": "stdout",
     "output_type": "stream",
     "text": [
      "{0, 1, 2, 3, 4, 5, 6, 7, 8, 9}\n"
     ]
    }
   ],
   "source": [
    "# union join two sets and remove same values\n",
    "a={1,2,3,4}\n",
    "b={1,2,3,4,5,6,7,8,9,0}\n",
    "c=a.union(b)\n",
    "print(c)"
   ]
  },
  {
   "cell_type": "code",
   "execution_count": 3,
   "id": "120ed056",
   "metadata": {},
   "outputs": [
    {
     "name": "stdout",
     "output_type": "stream",
     "text": [
      "{33, 22, 55, 11, 44}\n"
     ]
    }
   ],
   "source": [
    "# update( )  used to join two sets\n",
    "a={11,22,33}\n",
    "b={11,55,44}\n",
    "a.update(b)\n",
    "print(a)"
   ]
  },
  {
   "cell_type": "code",
   "execution_count": 5,
   "id": "1105fb69",
   "metadata": {},
   "outputs": [
    {
     "name": "stdout",
     "output_type": "stream",
     "text": [
      "{11}\n"
     ]
    }
   ],
   "source": [
    "# intersection return new set that only contain item present in both set\n",
    "a={11,22,33}\n",
    "b={11,55,44}\n",
    "w=a.intersection(b)\n",
    "print(w)"
   ]
  },
  {
   "cell_type": "code",
   "execution_count": 6,
   "id": "6ecd0535",
   "metadata": {},
   "outputs": [
    {
     "name": "stdout",
     "output_type": "stream",
     "text": [
      "{11}\n"
     ]
    }
   ],
   "source": [
    "# intersectin and update\n",
    "a={11,22,33}\n",
    "b={11,55,44}\n",
    "a.intersection_update(b)\n",
    "print(a)\n"
   ]
  },
  {
   "cell_type": "code",
   "execution_count": null,
   "id": "a804e980",
   "metadata": {},
   "outputs": [
    {
     "name": "stdout",
     "output_type": "stream",
     "text": [
      "{33, 22}\n"
     ]
    }
   ],
   "source": [
    "# difference will return new set\n",
    "a={11,22,33}\n",
    "b={11,55,44}\n",
    "c=a.difference(b)\n",
    "print(c)"
   ]
  },
  {
   "cell_type": "code",
   "execution_count": 8,
   "id": "f31bffe8",
   "metadata": {},
   "outputs": [
    {
     "name": "stdout",
     "output_type": "stream",
     "text": [
      "{33, 22}\n"
     ]
    }
   ],
   "source": [
    "# difference and update \n",
    "a={11,22,33}\n",
    "b={11,55,44}\n",
    "a.difference_update(b)\n",
    "print(a)"
   ]
  },
  {
   "cell_type": "code",
   "execution_count": 9,
   "id": "71a60be5",
   "metadata": {},
   "outputs": [
    {
     "name": "stdout",
     "output_type": "stream",
     "text": [
      "{33, 44, 22, 55}\n"
     ]
    }
   ],
   "source": [
    "# symmetric\n",
    "a={11,22,33}\n",
    "b={11,55,44}\n",
    "a.symmetric_difference_update(b)\n",
    "print(a)"
   ]
  },
  {
   "cell_type": "code",
   "execution_count": 1,
   "id": "1674a9db",
   "metadata": {},
   "outputs": [
    {
     "name": "stdout",
     "output_type": "stream",
     "text": [
      "<class 'set'>\n",
      "6\n",
      "6\n"
     ]
    }
   ],
   "source": [
    "set2 ={1,2,3,4,5,6}\n",
    "print(type(set2))\n",
    "print(len(set2))\n",
    "\n",
    "\n",
    "c=0\n",
    "for i in set2:\n",
    "    c+=1\n",
    "print(c)\n"
   ]
  },
  {
   "cell_type": "code",
   "execution_count": 5,
   "id": "560a8a5a",
   "metadata": {},
   "outputs": [
    {
     "name": "stdout",
     "output_type": "stream",
     "text": [
      "1\n",
      "2\n",
      "two\n",
      "3\n",
      "4\n",
      "5\n",
      "6\n",
      "True\n"
     ]
    }
   ],
   "source": [
    "for i in set2:\n",
    "    print(i)\n",
    "    if i==2:\n",
    "        print(\"two\")\n",
    "print(2 in set2)        \n"
   ]
  },
  {
   "cell_type": "code",
   "execution_count": 8,
   "id": "c3a3e5df",
   "metadata": {},
   "outputs": [
    {
     "name": "stdout",
     "output_type": "stream",
     "text": [
      "{1, 2, 3, 4, 'starlink', 'tesla', 'elonmusk', 'sets', 'x', 'google'}\n"
     ]
    }
   ],
   "source": [
    "a={'elonmusk','tesla','starlink','x'}\n",
    "a.add('google')\n",
    "a.add('sets')\n",
    "b={1,2,3,4}\n",
    "a.update(b)\n",
    "print(a)"
   ]
  },
  {
   "cell_type": "code",
   "execution_count": 10,
   "id": "30fbeac9",
   "metadata": {},
   "outputs": [
    {
     "data": {
      "text/plain": [
       "set()"
      ]
     },
     "execution_count": 10,
     "metadata": {},
     "output_type": "execute_result"
    }
   ],
   "source": [
    "z={1, 2, 3, 4, 'starlink', 'tesla', 'elonmusk', 'sets', 'x', 'google'}\n",
    "z.remove(1)\n",
    "z.remove('google')\n",
    "z.discard('elonmusk')\n",
    "z.discard('tesla')\n",
    "z.clear()\n",
    "z"
   ]
  },
  {
   "cell_type": "code",
   "execution_count": 12,
   "id": "f3b08487",
   "metadata": {},
   "outputs": [
    {
     "data": {
      "text/plain": [
       "{1, 2, 3, 4, 5, 6, 7, 8, 9}"
      ]
     },
     "execution_count": 12,
     "metadata": {},
     "output_type": "execute_result"
    }
   ],
   "source": [
    "a={1,2,3,4,5}\n",
    "b={1,2,3,4,5,6,7,8,9}\n",
    "set1=a.update(b)\n",
    "a"
   ]
  },
  {
   "cell_type": "code",
   "execution_count": 15,
   "id": "6810b8a7",
   "metadata": {},
   "outputs": [
    {
     "data": {
      "text/plain": [
       "{1, 2, 3, 4, 5, 6, 7, 8, 9}"
      ]
     },
     "execution_count": 15,
     "metadata": {},
     "output_type": "execute_result"
    }
   ],
   "source": [
    "a={1,2,3,4,5}\n",
    "b={1,2,3,4,5,6,7,8,9}\n",
    "u=a.union(b)\n",
    "u"
   ]
  },
  {
   "cell_type": "code",
   "execution_count": 16,
   "id": "e24a9519",
   "metadata": {},
   "outputs": [
    {
     "data": {
      "text/plain": [
       "{1, 2, 3, 4, 5}"
      ]
     },
     "execution_count": 16,
     "metadata": {},
     "output_type": "execute_result"
    }
   ],
   "source": [
    "a={1,2,3,4,5}\n",
    "b={1,2,3,4,5,6,7,8,9}\n",
    "c=a.intersection(b)\n",
    "c"
   ]
  },
  {
   "cell_type": "code",
   "execution_count": 17,
   "id": "f1d93ccc",
   "metadata": {},
   "outputs": [
    {
     "data": {
      "text/plain": [
       "{1, 2, 3, 4, 5}"
      ]
     },
     "execution_count": 17,
     "metadata": {},
     "output_type": "execute_result"
    }
   ],
   "source": [
    "a={1,2,3,4,5}\n",
    "b={1,2,3,4,5,6,7,8,9}\n",
    "a.intersection_update(b)\n",
    "a"
   ]
  },
  {
   "cell_type": "code",
   "execution_count": 22,
   "id": "45421629",
   "metadata": {},
   "outputs": [
    {
     "data": {
      "text/plain": [
       "{6, 7, 8, 9}"
      ]
     },
     "execution_count": 22,
     "metadata": {},
     "output_type": "execute_result"
    }
   ],
   "source": [
    "a={1,2,3,4,5}\n",
    "b={1,2,3,4,5,6,7,8,9}\n",
    "s=b.difference(a)\n",
    "s"
   ]
  },
  {
   "cell_type": "code",
   "execution_count": null,
   "id": "b1267f57",
   "metadata": {},
   "outputs": [
    {
     "data": {
      "text/plain": [
       "{6, 7, 8, 9}"
      ]
     },
     "execution_count": 23,
     "metadata": {},
     "output_type": "execute_result"
    }
   ],
   "source": [
    "a={1,2,3,4,5,11,22}\n",
    "b={1,2,3,4,5,6,7,8,9}\n",
    "b.difference_update(a)\n",
    "b"
   ]
  },
  {
   "cell_type": "code",
   "execution_count": 25,
   "id": "a9a88691",
   "metadata": {},
   "outputs": [
    {
     "data": {
      "text/plain": [
       "{6, 7, 8, 9, 11, 22, 33}"
      ]
     },
     "execution_count": 25,
     "metadata": {},
     "output_type": "execute_result"
    }
   ],
   "source": [
    "a={1,2,3,4,5,11,22,33}\n",
    "b={1,2,3,4,5,6,7,8,9}\n",
    "c=a.symmetric_difference(b)\n",
    "c"
   ]
  },
  {
   "cell_type": "code",
   "execution_count": 26,
   "id": "e9c799cc",
   "metadata": {},
   "outputs": [
    {
     "data": {
      "text/plain": [
       "{6, 7, 8, 9, 11, 22, 33}"
      ]
     },
     "execution_count": 26,
     "metadata": {},
     "output_type": "execute_result"
    }
   ],
   "source": [
    "a={1,2,3,4,5,11,22,33}\n",
    "b={1,2,3,4,5,6,7,8,9}\n",
    "a.symmetric_difference_update(b)\n",
    "a"
   ]
  },
  {
   "cell_type": "code",
   "execution_count": null,
   "id": "ff6be5dc",
   "metadata": {},
   "outputs": [],
   "source": []
  }
 ],
 "metadata": {
  "kernelspec": {
   "display_name": "base",
   "language": "python",
   "name": "python3"
  },
  "language_info": {
   "codemirror_mode": {
    "name": "ipython",
    "version": 3
   },
   "file_extension": ".py",
   "mimetype": "text/x-python",
   "name": "python",
   "nbconvert_exporter": "python",
   "pygments_lexer": "ipython3",
   "version": "3.12.7"
  }
 },
 "nbformat": 4,
 "nbformat_minor": 5
}
