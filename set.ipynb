{
 "cells": [
  {
   "cell_type": "code",
   "execution_count": 1,
   "id": "e77f1909",
   "metadata": {},
   "outputs": [
    {
     "name": "stdout",
     "output_type": "stream",
     "text": [
      "6\n",
      "<class 'set'>\n",
      "{1, 2, 3, 4, 5, 6}\n"
     ]
    }
   ],
   "source": [
    "a={1,2,3,4,5,6}\n",
    "print(len(a))\n",
    "print(type(a))\n",
    "print(a)"
   ]
  },
  {
   "cell_type": "code",
   "execution_count": null,
   "id": "b27e5594",
   "metadata": {},
   "outputs": [
    {
     "name": "stdout",
     "output_type": "stream",
     "text": [
      "{'apple', 'lemon', 'pineapple', 'cherry', 'banana'}\n"
     ]
    }
   ],
   "source": [
    "# add items in set add()\n",
    "a={'apple','cherry','banana'}\n",
    "a.add('pineapple')\n",
    "a.add('lemon')\n",
    "print(a)"
   ]
  },
  {
   "cell_type": "code",
   "execution_count": null,
   "id": "02168bd3",
   "metadata": {},
   "outputs": [
    {
     "name": "stdout",
     "output_type": "stream",
     "text": [
      "{0, True, 'apple', 'lemon', 'pineapple', 'cherry', 'banana'}\n"
     ]
    }
   ],
   "source": [
    "# update used to add another set in this set\n",
    "a={'apple', 'lemon', 'pineapple', 'cherry', 'banana'}\n",
    "c={True,1,0,False}\n",
    "c.update(a)\n",
    "print(c)"
   ]
  },
  {
   "cell_type": "code",
   "execution_count": 7,
   "id": "a28cccbc",
   "metadata": {},
   "outputs": [
    {
     "data": {
      "text/plain": [
       "{0, 'banana', 'cherry', 'lemon', 'pineapple'}"
      ]
     },
     "execution_count": 7,
     "metadata": {},
     "output_type": "execute_result"
    }
   ],
   "source": [
    "# remove used to remove specific set items\n",
    "c1={0, True, 'apple', 'lemon', 'pineapple', 'cherry', 'banana'}\n",
    "c1.remove(1)\n",
    "c1.remove('apple')\n",
    "c1\n"
   ]
  },
  {
   "cell_type": "code",
   "execution_count": 8,
   "id": "31828738",
   "metadata": {},
   "outputs": [
    {
     "data": {
      "text/plain": [
       "{'banana', 'cherry', 'lemon', 'pineapple'}"
      ]
     },
     "execution_count": 8,
     "metadata": {},
     "output_type": "execute_result"
    }
   ],
   "source": [
    "# discard remove specific values\n",
    "z1={0, True, 'apple', 'lemon', 'pineapple', 'cherry', 'banana'}\n",
    "z1.discard('apple')\n",
    "z1.discard(1)\n",
    "z1.discard(False)\n",
    "z1"
   ]
  },
  {
   "cell_type": "code",
   "execution_count": 9,
   "id": "b9ef270e",
   "metadata": {},
   "outputs": [],
   "source": [
    "x1={0, True, 'apple', 'lemon', 'pineapple', 'cherry', 'banana'}\n",
    "del x1"
   ]
  },
  {
   "cell_type": "code",
   "execution_count": 10,
   "id": "988f54c2",
   "metadata": {},
   "outputs": [],
   "source": [
    "c1={0, True, 'apple', 'lemon', 'pineapple', 'cherry', 'banana'}\n",
    "c1.clear()"
   ]
  },
  {
   "cell_type": "code",
   "execution_count": null,
   "id": "fd3e5133",
   "metadata": {},
   "outputs": [],
   "source": []
  }
 ],
 "metadata": {
  "kernelspec": {
   "display_name": "base",
   "language": "python",
   "name": "python3"
  },
  "language_info": {
   "codemirror_mode": {
    "name": "ipython",
    "version": 3
   },
   "file_extension": ".py",
   "mimetype": "text/x-python",
   "name": "python",
   "nbconvert_exporter": "python",
   "pygments_lexer": "ipython3",
   "version": "3.12.7"
  }
 },
 "nbformat": 4,
 "nbformat_minor": 5
}
