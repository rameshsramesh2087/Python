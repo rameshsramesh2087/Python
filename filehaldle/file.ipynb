{
 "cells": [
  {
   "cell_type": "code",
   "execution_count": 18,
   "id": "7fd684fd",
   "metadata": {},
   "outputs": [
    {
     "name": "stdout",
     "output_type": "stream",
     "text": [
      "i am ramesh come from ranipet  \n"
     ]
    }
   ],
   "source": [
    "file=open(r'E:\\gitpython\\filehaldle\\text1.txt',mode='r')\n",
    "print(file.read())\n",
    "file.close()\n",
    "\n",
    "\n",
    "\n",
    "\n"
   ]
  },
  {
   "cell_type": "code",
   "execution_count": 21,
   "id": "00134d41",
   "metadata": {},
   "outputs": [
    {
     "name": "stdout",
     "output_type": "stream",
     "text": [
      "7\n"
     ]
    }
   ],
   "source": [
    "f1=open(r'E:\\gitpython\\filehaldle\\text1.txt','w')\n",
    "print(f1.write(' banana'))\n",
    "f1.close()"
   ]
  },
  {
   "cell_type": "code",
   "execution_count": 27,
   "id": "550982d4",
   "metadata": {},
   "outputs": [],
   "source": [
    "f2=open(r'E:\\gitpython\\filehaldle\\text1.txt','a')\n",
    "f2.write('1234\\n')\n",
    "f2.write('mango')\n",
    "f2.close()\n",
    "f3=open(r'E:\\gitpython\\filehaldle\\text1.txt','r+')\n",
    "a=f3.read()\n",
    "a\n",
    "f3.close()"
   ]
  },
  {
   "cell_type": "code",
   "execution_count": null,
   "id": "f955f26b",
   "metadata": {},
   "outputs": [],
   "source": []
  }
 ],
 "metadata": {
  "kernelspec": {
   "display_name": "base",
   "language": "python",
   "name": "python3"
  },
  "language_info": {
   "codemirror_mode": {
    "name": "ipython",
    "version": 3
   },
   "file_extension": ".py",
   "mimetype": "text/x-python",
   "name": "python",
   "nbconvert_exporter": "python",
   "pygments_lexer": "ipython3",
   "version": "3.12.7"
  }
 },
 "nbformat": 4,
 "nbformat_minor": 5
}
