{
 "cells": [
  {
   "cell_type": "markdown",
   "id": "66db72c2",
   "metadata": {},
   "source": [
    "comparison operators\n",
    "\n",
    "compare values and return true are false."
   ]
  },
  {
   "cell_type": "code",
   "execution_count": 4,
   "id": "9985a801",
   "metadata": {},
   "outputs": [
    {
     "name": "stdout",
     "output_type": "stream",
     "text": [
      "True\n",
      "True\n",
      "True\n",
      "True\n"
     ]
    }
   ],
   "source": [
    "print(22==22)\n",
    "print(44!=22)\n",
    "print(33>22)\n",
    "print(33>12)\n"
   ]
  },
  {
   "cell_type": "code",
   "execution_count": 14,
   "id": "9cd8909a",
   "metadata": {},
   "outputs": [
    {
     "name": "stdout",
     "output_type": "stream",
     "text": [
      "True\n",
      "True\n",
      "True\n"
     ]
    }
   ],
   "source": [
    "print(44>=34)\n",
    "print(66>=23)\n",
    "print(100>=13)"
   ]
  },
  {
   "cell_type": "code",
   "execution_count": 15,
   "id": "aa2f6f94",
   "metadata": {},
   "outputs": [
    {
     "name": "stdout",
     "output_type": "stream",
     "text": [
      "True\n",
      "True\n",
      "False\n"
     ]
    }
   ],
   "source": [
    "print(22<=33)\n",
    "print(24<=33)\n",
    "print(44<=33)"
   ]
  },
  {
   "cell_type": "code",
   "execution_count": 16,
   "id": "54f9b78c",
   "metadata": {},
   "outputs": [
    {
     "name": "stdout",
     "output_type": "stream",
     "text": [
      "True\n",
      "True\n"
     ]
    }
   ],
   "source": [
    "print(44>=33)\n",
    "print(50>=20)"
   ]
  },
  {
   "cell_type": "code",
   "execution_count": 18,
   "id": "9307d502",
   "metadata": {},
   "outputs": [
    {
     "name": "stdout",
     "output_type": "stream",
     "text": [
      "True\n",
      "True\n"
     ]
    }
   ],
   "source": [
    "print(44<=100)\n",
    "print(45<=100)"
   ]
  },
  {
   "cell_type": "code",
   "execution_count": null,
   "id": "b6906151",
   "metadata": {},
   "outputs": [],
   "source": []
  }
 ],
 "metadata": {
  "kernelspec": {
   "display_name": "base",
   "language": "python",
   "name": "python3"
  },
  "language_info": {
   "codemirror_mode": {
    "name": "ipython",
    "version": 3
   },
   "file_extension": ".py",
   "mimetype": "text/x-python",
   "name": "python",
   "nbconvert_exporter": "python",
   "pygments_lexer": "ipython3",
   "version": "3.12.7"
  }
 },
 "nbformat": 4,
 "nbformat_minor": 5
}
