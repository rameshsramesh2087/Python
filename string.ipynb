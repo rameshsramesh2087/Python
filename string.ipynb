{
 "cells": [
  {
   "cell_type": "code",
   "execution_count": 1,
   "id": "2772b973",
   "metadata": {},
   "outputs": [
    {
     "name": "stdout",
     "output_type": "stream",
     "text": [
      "hello\n"
     ]
    }
   ],
   "source": [
    "print('hello')"
   ]
  },
  {
   "cell_type": "code",
   "execution_count": 2,
   "id": "da779fd1",
   "metadata": {},
   "outputs": [
    {
     "name": "stdout",
     "output_type": "stream",
     "text": [
      "hello i am ramesh come from chennai \n",
      "and currently i am working developer\n"
     ]
    }
   ],
   "source": [
    "a='''hello i am ramesh come from chennai \n",
    "and currently i am working developer'''\n",
    "print(a)"
   ]
  },
  {
   "cell_type": "code",
   "execution_count": 3,
   "id": "cc6e4fcf",
   "metadata": {},
   "outputs": [
    {
     "data": {
      "text/plain": [
       "'i am ramesh\\nfrom ranipet \\ncurrently working on this companny'"
      ]
     },
     "execution_count": 3,
     "metadata": {},
     "output_type": "execute_result"
    }
   ],
   "source": [
    "'''i am ramesh\n",
    "from ranipet \n",
    "currently working on this companny'''"
   ]
  },
  {
   "cell_type": "code",
   "execution_count": 4,
   "id": "6584a36d",
   "metadata": {},
   "outputs": [
    {
     "name": "stdout",
     "output_type": "stream",
     "text": [
      "m\n",
      "a\n",
      "r\n"
     ]
    }
   ],
   "source": [
    "# string array\n",
    "a='ramesh'\n",
    "print(a[2])\n",
    "print(a[1])\n",
    "print(a[0])"
   ]
  },
  {
   "cell_type": "code",
   "execution_count": 5,
   "id": "c7b51935",
   "metadata": {},
   "outputs": [
    {
     "name": "stdout",
     "output_type": "stream",
     "text": [
      "9\n"
     ]
    }
   ],
   "source": [
    "# length of string\n",
    "text='kumaravel'\n",
    "print(len(text))\n"
   ]
  },
  {
   "cell_type": "code",
   "execution_count": 7,
   "id": "46cd7088",
   "metadata": {},
   "outputs": [
    {
     "name": "stdout",
     "output_type": "stream",
     "text": [
      "ksk college\n",
      " of arts and science\n"
     ]
    }
   ],
   "source": [
    "# string slicing\n",
    "a='ksk college of arts and science'\n",
    "print(a[0:11])\n",
    "print(a[11:])\n"
   ]
  },
  {
   "cell_type": "code",
   "execution_count": 8,
   "id": "d9218fc3",
   "metadata": {},
   "outputs": [
    {
     "name": "stdout",
     "output_type": "stream",
     "text": [
      "RAMESH\n"
     ]
    }
   ],
   "source": [
    "a='ramesh'\n",
    "print(a.upper())"
   ]
  },
  {
   "cell_type": "code",
   "execution_count": 9,
   "id": "71fc3d9d",
   "metadata": {},
   "outputs": [
    {
     "name": "stdout",
     "output_type": "stream",
     "text": [
      "i am ramesh\n"
     ]
    }
   ],
   "source": [
    "c='I AM RAMESH'\n",
    "print(c.lower()\n",
    "      )"
   ]
  },
  {
   "cell_type": "code",
   "execution_count": 14,
   "id": "f71fa8c0",
   "metadata": {},
   "outputs": [
    {
     "name": "stdout",
     "output_type": "stream",
     "text": [
      "11\n",
      "6\n",
      "ramesh\n"
     ]
    }
   ],
   "source": [
    "a='   ramesh  '\n",
    "b='ramesh'\n",
    "print(len(a))\n",
    "print(len(b))\n",
    "print(a.strip())\n"
   ]
  },
  {
   "cell_type": "code",
   "execution_count": 19,
   "id": "9361c8d7",
   "metadata": {},
   "outputs": [
    {
     "name": "stdout",
     "output_type": "stream",
     "text": [
      "['i', 'am', 'ramesh']\n"
     ]
    }
   ],
   "source": [
    "c1='i am ramesh '\n",
    "print(c1.split( ))"
   ]
  },
  {
   "cell_type": "code",
   "execution_count": 20,
   "id": "7218feeb",
   "metadata": {},
   "outputs": [
    {
     "name": "stdout",
     "output_type": "stream",
     "text": [
      "What is your name ...?\n"
     ]
    }
   ],
   "source": [
    "ques='what is your name ...?'\n",
    "print(ques.capitalize())"
   ]
  },
  {
   "cell_type": "code",
   "execution_count": 22,
   "id": "4153b448",
   "metadata": {},
   "outputs": [
    {
     "name": "stdout",
     "output_type": "stream",
     "text": [
      "    what is your name ...?    \n"
     ]
    }
   ],
   "source": [
    "ques='what is your name ...?'\n",
    "print(ques.center(30))"
   ]
  },
  {
   "cell_type": "code",
   "execution_count": 23,
   "id": "380b5e74",
   "metadata": {},
   "outputs": [
    {
     "name": "stdout",
     "output_type": "stream",
     "text": [
      "2\n",
      "2\n",
      "3\n"
     ]
    }
   ],
   "source": [
    "a=[1,2,3,4,3,1,2,3,5,6,4,7]\n",
    "print(a.count(1))\n",
    "print(a.count(2))\n",
    "print(a.count(3))"
   ]
  },
  {
   "cell_type": "code",
   "execution_count": 24,
   "id": "dd59d65d",
   "metadata": {},
   "outputs": [
    {
     "name": "stdout",
     "output_type": "stream",
     "text": [
      "True\n"
     ]
    }
   ],
   "source": [
    "ques='what is your name ...?'\n",
    "print(ques.endswith('?'))"
   ]
  },
  {
   "cell_type": "code",
   "execution_count": 25,
   "id": "1e52c663",
   "metadata": {},
   "outputs": [
    {
     "name": "stdout",
     "output_type": "stream",
     "text": [
      "21\n"
     ]
    }
   ],
   "source": [
    "ques='what is your name ...?'\n",
    "print(ques.find('?'))"
   ]
  },
  {
   "cell_type": "code",
   "execution_count": 26,
   "id": "896ab533",
   "metadata": {},
   "outputs": [
    {
     "name": "stdout",
     "output_type": "stream",
     "text": [
      "False\n"
     ]
    }
   ],
   "source": [
    "ques='what is your name ...?'\n",
    "print(ques.isalpha())"
   ]
  },
  {
   "cell_type": "code",
   "execution_count": 27,
   "id": "51b320d8",
   "metadata": {},
   "outputs": [
    {
     "name": "stdout",
     "output_type": "stream",
     "text": [
      "What Is Your Name ...?\n"
     ]
    }
   ],
   "source": [
    "ques='what is your name ...?'\n",
    "print(ques.title())"
   ]
  },
  {
   "cell_type": "code",
   "execution_count": null,
   "id": "dbcee3f7",
   "metadata": {},
   "outputs": [],
   "source": []
  }
 ],
 "metadata": {
  "kernelspec": {
   "display_name": "base",
   "language": "python",
   "name": "python3"
  },
  "language_info": {
   "codemirror_mode": {
    "name": "ipython",
    "version": 3
   },
   "file_extension": ".py",
   "mimetype": "text/x-python",
   "name": "python",
   "nbconvert_exporter": "python",
   "pygments_lexer": "ipython3",
   "version": "3.12.7"
  }
 },
 "nbformat": 4,
 "nbformat_minor": 5
}
