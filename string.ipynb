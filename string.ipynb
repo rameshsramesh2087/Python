{
 "cells": [
  {
   "cell_type": "code",
   "execution_count": 1,
   "id": "2772b973",
   "metadata": {},
   "outputs": [
    {
     "name": "stdout",
     "output_type": "stream",
     "text": [
      "hello\n"
     ]
    }
   ],
   "source": [
    "print('hello')"
   ]
  },
  {
   "cell_type": "code",
   "execution_count": 2,
   "id": "da779fd1",
   "metadata": {},
   "outputs": [
    {
     "name": "stdout",
     "output_type": "stream",
     "text": [
      "hello i am ramesh come from chennai \n",
      "and currently i am working developer\n"
     ]
    }
   ],
   "source": [
    "a='''hello i am ramesh come from chennai \n",
    "and currently i am working developer'''\n",
    "print(a)"
   ]
  },
  {
   "cell_type": "code",
   "execution_count": 3,
   "id": "cc6e4fcf",
   "metadata": {},
   "outputs": [
    {
     "data": {
      "text/plain": [
       "'i am ramesh\\nfrom ranipet \\ncurrently working on this companny'"
      ]
     },
     "execution_count": 3,
     "metadata": {},
     "output_type": "execute_result"
    }
   ],
   "source": [
    "'''i am ramesh\n",
    "from ranipet \n",
    "currently working on this companny'''"
   ]
  },
  {
   "cell_type": "code",
   "execution_count": 4,
   "id": "6584a36d",
   "metadata": {},
   "outputs": [
    {
     "name": "stdout",
     "output_type": "stream",
     "text": [
      "m\n",
      "a\n",
      "r\n"
     ]
    }
   ],
   "source": [
    "# string array\n",
    "a='ramesh'\n",
    "print(a[2])\n",
    "print(a[1])\n",
    "print(a[0])"
   ]
  },
  {
   "cell_type": "code",
   "execution_count": 5,
   "id": "c7b51935",
   "metadata": {},
   "outputs": [
    {
     "name": "stdout",
     "output_type": "stream",
     "text": [
      "9\n"
     ]
    }
   ],
   "source": [
    "# length of string\n",
    "text='kumaravel'\n",
    "print(len(text))\n"
   ]
  },
  {
   "cell_type": "code",
   "execution_count": 7,
   "id": "46cd7088",
   "metadata": {},
   "outputs": [
    {
     "name": "stdout",
     "output_type": "stream",
     "text": [
      "ksk college\n",
      " of arts and science\n"
     ]
    }
   ],
   "source": [
    "# string slicing\n",
    "a='ksk college of arts and science'\n",
    "print(a[0:11])\n",
    "print(a[11:])\n"
   ]
  },
  {
   "cell_type": "code",
   "execution_count": null,
   "id": "d9218fc3",
   "metadata": {},
   "outputs": [],
   "source": []
  }
 ],
 "metadata": {
  "kernelspec": {
   "display_name": "base",
   "language": "python",
   "name": "python3"
  },
  "language_info": {
   "codemirror_mode": {
    "name": "ipython",
    "version": 3
   },
   "file_extension": ".py",
   "mimetype": "text/x-python",
   "name": "python",
   "nbconvert_exporter": "python",
   "pygments_lexer": "ipython3",
   "version": "3.12.7"
  }
 },
 "nbformat": 4,
 "nbformat_minor": 5
}
