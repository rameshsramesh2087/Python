{
 "cells": [
  {
   "cell_type": "code",
   "execution_count": 1,
   "id": "3df854b3",
   "metadata": {},
   "outputs": [
    {
     "ename": "ZeroDivisionError",
     "evalue": "division by zero",
     "output_type": "error",
     "traceback": [
      "\u001b[1;31m---------------------------------------------------------------------------\u001b[0m",
      "\u001b[1;31mZeroDivisionError\u001b[0m                         Traceback (most recent call last)",
      "Cell \u001b[1;32mIn[1], line 4\u001b[0m\n\u001b[0;32m      1\u001b[0m a\u001b[38;5;241m=\u001b[39m\u001b[38;5;28mint\u001b[39m(\u001b[38;5;28minput\u001b[39m(\u001b[38;5;124m'\u001b[39m\u001b[38;5;124mv1\u001b[39m\u001b[38;5;124m'\u001b[39m))\n\u001b[0;32m      2\u001b[0m b\u001b[38;5;241m=\u001b[39m\u001b[38;5;28mint\u001b[39m(\u001b[38;5;28minput\u001b[39m(\u001b[38;5;124m'\u001b[39m\u001b[38;5;124mv2\u001b[39m\u001b[38;5;124m'\u001b[39m))\n\u001b[1;32m----> 4\u001b[0m \u001b[38;5;28mprint\u001b[39m(\u001b[38;5;124m'\u001b[39m\u001b[38;5;124mdivision of a & b is :\u001b[39m\u001b[38;5;124m'\u001b[39m,a\u001b[38;5;241m/\u001b[39mb)\n",
      "\u001b[1;31mZeroDivisionError\u001b[0m: division by zero"
     ]
    }
   ],
   "source": [
    "a=int(input('v1'))\n",
    "b=int(input('v2'))\n",
    "\n",
    "print('division of a & b is :',a/b)"
   ]
  },
  {
   "cell_type": "code",
   "execution_count": 3,
   "id": "218168c6",
   "metadata": {},
   "outputs": [
    {
     "name": "stdout",
     "output_type": "stream",
     "text": [
      "division by zero\n",
      "executed \n"
     ]
    }
   ],
   "source": [
    "try:\n",
    "    a=int(input('v1'))\n",
    "    b=int(input('v2'))\n",
    "    print('division of a & b is :',a/b)\n",
    "except Exception as erro:\n",
    "    print(str(erro))\n",
    "else :\n",
    "    print('executed')    \n",
    "finally:\n",
    "    print('executed ')     \n"
   ]
  },
  {
   "cell_type": "code",
   "execution_count": 2,
   "id": "70fdc96a",
   "metadata": {},
   "outputs": [
    {
     "name": "stdout",
     "output_type": "stream",
     "text": [
      "False\n",
      "executed\n",
      "finished\n"
     ]
    }
   ],
   "source": [
    "try:\n",
    "    a=int(input())\n",
    "    b=int(input())\n",
    "    print(a>b)\n",
    "except Exception as err:\n",
    "    print(str(err))\n",
    "else:\n",
    "      print('executed')\n",
    "finally:\n",
    "     print('finished')            "
   ]
  },
  {
   "cell_type": "code",
   "execution_count": null,
   "id": "ff2fa1e0",
   "metadata": {},
   "outputs": [],
   "source": []
  }
 ],
 "metadata": {
  "kernelspec": {
   "display_name": "base",
   "language": "python",
   "name": "python3"
  },
  "language_info": {
   "codemirror_mode": {
    "name": "ipython",
    "version": 3
   },
   "file_extension": ".py",
   "mimetype": "text/x-python",
   "name": "python",
   "nbconvert_exporter": "python",
   "pygments_lexer": "ipython3",
   "version": "3.12.7"
  }
 },
 "nbformat": 4,
 "nbformat_minor": 5
}
