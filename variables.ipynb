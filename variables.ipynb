{
 "cells": [
  {
   "cell_type": "markdown",
   "id": "068393dd",
   "metadata": {},
   "source": [
    " VARABLES\n",
    "\n",
    " variables are containner for storing value and data."
   ]
  },
  {
   "cell_type": "code",
   "execution_count": 1,
   "id": "a3a1342e",
   "metadata": {},
   "outputs": [
    {
     "name": "stdout",
     "output_type": "stream",
     "text": [
      "5 7\n"
     ]
    }
   ],
   "source": [
    "x=5\n",
    "p=7\n",
    "print(x,p)"
   ]
  },
  {
   "cell_type": "markdown",
   "id": "6e03756a",
   "metadata": {},
   "source": [
    "Variables rulese\n",
    "\n",
    " a variable name  must start with letters (a-z) or(A-Z) and underscore.\n",
    "\n",
    " variable name cannot start with a number. if want number to create variable can be start underscore(_) included digits 0-9 and special characters.\n",
    "\n",
    " no space alloweded alternative you can use undersocre. cannot use python keywords , reserve words.\n",
    "\n",
    " python is a case sensitive name != Name."
   ]
  },
  {
   "cell_type": "code",
   "execution_count": null,
   "id": "faae66f5",
   "metadata": {},
   "outputs": [],
   "source": []
  }
 ],
 "metadata": {
  "kernelspec": {
   "display_name": "base",
   "language": "python",
   "name": "python3"
  },
  "language_info": {
   "codemirror_mode": {
    "name": "ipython",
    "version": 3
   },
   "file_extension": ".py",
   "mimetype": "text/x-python",
   "name": "python",
   "nbconvert_exporter": "python",
   "pygments_lexer": "ipython3",
   "version": "3.12.7"
  }
 },
 "nbformat": 4,
 "nbformat_minor": 5
}
