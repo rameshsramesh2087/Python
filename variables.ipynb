{
 "cells": [
  {
   "cell_type": "markdown",
   "id": "068393dd",
   "metadata": {},
   "source": [
    " VARABLES\n",
    "\n",
    " variables are containner for storing value and data."
   ]
  },
  {
   "cell_type": "code",
   "execution_count": 1,
   "id": "a3a1342e",
   "metadata": {},
   "outputs": [
    {
     "name": "stdout",
     "output_type": "stream",
     "text": [
      "5 7\n"
     ]
    }
   ],
   "source": [
    "x=5\n",
    "p=7\n",
    "print(x,p)"
   ]
  },
  {
   "cell_type": "markdown",
   "id": "6e03756a",
   "metadata": {},
   "source": [
    "Variables rulese\n",
    "\n",
    " a variable name  must start with letters (a-z) or(A-Z) and underscore.\n",
    "\n",
    " variable name cannot start with a number. if want number to create variable can be start underscore(_) included digits 0-9 and special characters.\n",
    "\n",
    " no space alloweded alternative you can use undersocre. cannot use python keywords , reserve words.\n",
    "\n",
    " python is a case sensitive name != Name."
   ]
  },
  {
   "cell_type": "code",
   "execution_count": 2,
   "id": "faae66f5",
   "metadata": {},
   "outputs": [
    {
     "name": "stdout",
     "output_type": "stream",
     "text": [
      "i am ramesh  i old  20\n"
     ]
    }
   ],
   "source": [
    "a='i am ramesh'\n",
    "c=' i old '\n",
    "b=20\n",
    "print(a,c,b)"
   ]
  },
  {
   "cell_type": "code",
   "execution_count": null,
   "id": "592306a4",
   "metadata": {},
   "outputs": [],
   "source": [
    "my_name=\n",
    "MY_NAME=\n",
    "_1=\n",
    "RA_=\n"
   ]
  },
  {
   "cell_type": "code",
   "execution_count": 3,
   "id": "2f70bcdb",
   "metadata": {},
   "outputs": [
    {
     "name": "stdout",
     "output_type": "stream",
     "text": [
      "100\n",
      "100\n",
      "100\n"
     ]
    }
   ],
   "source": [
    "# ASSIGN MULTIPLE VALUES AND MARIABLES\n",
    "# assign same values\n",
    "a=c=b=100\n",
    "print(a)\n",
    "print(b)\n",
    "print(c)"
   ]
  },
  {
   "cell_type": "code",
   "execution_count": 4,
   "id": "7df29ce6",
   "metadata": {},
   "outputs": [
    {
     "name": "stdout",
     "output_type": "stream",
     "text": [
      "ramesh location chennai\n",
      "rameshlocationchennai\n"
     ]
    }
   ],
   "source": [
    "# assign multiple values\n",
    "a,b,c='ramesh','location','chennai'\n",
    "print(a,b,c)\n",
    "print(a+b+c)"
   ]
  },
  {
   "cell_type": "code",
   "execution_count": null,
   "id": "3e88c134",
   "metadata": {},
   "outputs": [],
   "source": []
  }
 ],
 "metadata": {
  "kernelspec": {
   "display_name": "base",
   "language": "python",
   "name": "python3"
  },
  "language_info": {
   "codemirror_mode": {
    "name": "ipython",
    "version": 3
   },
   "file_extension": ".py",
   "mimetype": "text/x-python",
   "name": "python",
   "nbconvert_exporter": "python",
   "pygments_lexer": "ipython3",
   "version": "3.12.7"
  }
 },
 "nbformat": 4,
 "nbformat_minor": 5
}
