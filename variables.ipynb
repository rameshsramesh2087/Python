{
 "cells": [
  {
   "cell_type": "markdown",
   "id": "068393dd",
   "metadata": {},
   "source": [
    " VARABLES\n",
    "\n",
    " variables are containner for storing value and data."
   ]
  },
  {
   "cell_type": "code",
   "execution_count": 1,
   "id": "a3a1342e",
   "metadata": {},
   "outputs": [
    {
     "name": "stdout",
     "output_type": "stream",
     "text": [
      "5 7\n"
     ]
    }
   ],
   "source": [
    "x=5\n",
    "p=7\n",
    "print(x,p)"
   ]
  },
  {
   "cell_type": "markdown",
   "id": "6e03756a",
   "metadata": {},
   "source": [
    "Variables rulese\n",
    "\n",
    " a variable name  must start with letters (a-z) or(A-Z) and underscore.\n",
    "\n",
    " variable name cannot start with a number. if want number to create variable can be start underscore(_) included digits 0-9 and special characters.\n",
    "\n",
    " no space alloweded alternative you can use undersocre. cannot use python keywords , reserve words.\n",
    "\n",
    " python is a case sensitive name != Name."
   ]
  },
  {
   "cell_type": "code",
   "execution_count": 2,
   "id": "faae66f5",
   "metadata": {},
   "outputs": [
    {
     "name": "stdout",
     "output_type": "stream",
     "text": [
      "i am ramesh  i old  20\n"
     ]
    }
   ],
   "source": [
    "a='i am ramesh'\n",
    "c=' i old '\n",
    "b=20\n",
    "print(a,c,b)"
   ]
  },
  {
   "cell_type": "code",
   "execution_count": null,
   "id": "592306a4",
   "metadata": {},
   "outputs": [],
   "source": [
    "my_name=\n",
    "MY_NAME=\n",
    "_1=\n",
    "RA_=\n"
   ]
  },
  {
   "cell_type": "code",
   "execution_count": 3,
   "id": "2f70bcdb",
   "metadata": {},
   "outputs": [
    {
     "name": "stdout",
     "output_type": "stream",
     "text": [
      "100\n",
      "100\n",
      "100\n"
     ]
    }
   ],
   "source": [
    "# ASSIGN MULTIPLE VALUES AND MARIABLES\n",
    "# assign same values\n",
    "a=c=b=100\n",
    "print(a)\n",
    "print(b)\n",
    "print(c)"
   ]
  },
  {
   "cell_type": "code",
   "execution_count": null,
   "id": "7df29ce6",
   "metadata": {},
   "outputs": [
    {
     "name": "stdout",
     "output_type": "stream",
     "text": [
      "ramesh location chennai\n",
      "rameshlocationchennai\n"
     ]
    }
   ],
   "source": [
    "# assign multiple values\n",
    "# python allows multiple variables to be assign muliple values in single line\n",
    "\n",
    "a,b,c='ramesh','location','chennai'\n",
    "print(a,b,c)\n",
    "print(a+b+c)"
   ]
  },
  {
   "cell_type": "markdown",
   "id": "bb77bc99",
   "metadata": {},
   "source": [
    "Type casting a variable\n",
    "\n",
    "if want specific data type of variable use it."
   ]
  },
  {
   "cell_type": "code",
   "execution_count": 6,
   "id": "3e88c134",
   "metadata": {},
   "outputs": [
    {
     "name": "stdout",
     "output_type": "stream",
     "text": [
      "22\n",
      "44.0\n",
      "10\n",
      "7j\n",
      "<class 'complex'>\n"
     ]
    }
   ],
   "source": [
    "a=int(22.0)\n",
    "b=float(44)\n",
    "c=str(10)\n",
    "d=complex(2j+5j)\n",
    "print(a)\n",
    "print(b)\n",
    "print(c)\n",
    "print(d)\n",
    "print(type(d))"
   ]
  },
  {
   "cell_type": "markdown",
   "id": "e8018e64",
   "metadata": {},
   "source": [
    "Casting \n",
    "\n",
    "cating means if want to get the data type of variable using with type().\n"
   ]
  },
  {
   "cell_type": "code",
   "execution_count": 7,
   "id": "eccd233d",
   "metadata": {},
   "outputs": [
    {
     "name": "stdout",
     "output_type": "stream",
     "text": [
      "<class 'float'>\n",
      "<class 'int'>\n",
      "<class 'int'>\n",
      "<class 'complex'>\n"
     ]
    }
   ],
   "source": [
    "a=(22.0)\n",
    "b=(44)\n",
    "c=(10)\n",
    "d=(2j+5j)\n",
    "print(type(a))\n",
    "print(type(b))\n",
    "print(type(c))\n",
    "print(type(d))"
   ]
  },
  {
   "cell_type": "code",
   "execution_count": 11,
   "id": "85d4a83b",
   "metadata": {},
   "outputs": [
    {
     "name": "stdout",
     "output_type": "stream",
     "text": [
      "<class 'str'>\n",
      "<class 'complex'>\n",
      "<class 'float'>\n",
      "<class 'complex'>\n",
      "2j+5j (1+4j) 33.5 7j\n",
      "<class 'str'>\n",
      "<class 'float'>\n",
      "<class 'int'>\n",
      "<class 'str'>\n",
      "2j+4j 44.0 22 44\n"
     ]
    }
   ],
   "source": [
    "# type converstion\n",
    "a='2j+5j'\n",
    "b=22\n",
    "c=33.5\n",
    "b=1+4j\n",
    "print(type(a))\n",
    "print(type(b))\n",
    "print(type(c))\n",
    "print(type(d))\n",
    "print(a,b,c,d)\n",
    "\n",
    "#after conversion\n",
    "\n",
    "a1=str('2j+4j')\n",
    "b1=float(44)\n",
    "c1=int(22.3)\n",
    "d1=str(44)\n",
    "print(type(a1))\n",
    "print(type(b1))\n",
    "print(type(c1))\n",
    "print(type(d1))\n",
    "print(a1,b1,c1,d1)"
   ]
  },
  {
   "cell_type": "code",
   "execution_count": 12,
   "id": "dcccb06a",
   "metadata": {},
   "outputs": [
    {
     "name": "stdout",
     "output_type": "stream",
     "text": [
      "10 55\n",
      "55 10\n"
     ]
    }
   ],
   "source": [
    "#swapping\n",
    "\n",
    "a,b=10,55\n",
    "print(a,b)\n",
    "a,b=b,a\n",
    "print(a,b)"
   ]
  },
  {
   "cell_type": "code",
   "execution_count": 13,
   "id": "cde67b45",
   "metadata": {},
   "outputs": [
    {
     "name": "stdout",
     "output_type": "stream",
     "text": [
      "7\n"
     ]
    }
   ],
   "source": [
    "a='ramesh '\n",
    "print(len(a))"
   ]
  },
  {
   "cell_type": "code",
   "execution_count": 3,
   "id": "ec1abc2b",
   "metadata": {},
   "outputs": [
    {
     "name": "stdout",
     "output_type": "stream",
     "text": [
      "ramesh eats banana\n"
     ]
    }
   ],
   "source": [
    "a='ramesh'\n",
    "c='eats'\n",
    "b='banana'\n",
    "c,b=b,c\n",
    "print(a,b,c)"
   ]
  },
  {
   "cell_type": "code",
   "execution_count": 4,
   "id": "1e8f832e",
   "metadata": {},
   "outputs": [
    {
     "name": "stdout",
     "output_type": "stream",
     "text": [
      "66\n"
     ]
    }
   ],
   "source": [
    "a=b=c=22\n",
    "print(a+b+c)"
   ]
  },
  {
   "cell_type": "code",
   "execution_count": 5,
   "id": "c592c670",
   "metadata": {},
   "outputs": [
    {
     "name": "stdout",
     "output_type": "stream",
     "text": [
      "66\n"
     ]
    }
   ],
   "source": [
    "a,b,c=22,33,11\n",
    "print(a+b+c)"
   ]
  },
  {
   "cell_type": "code",
   "execution_count": 6,
   "id": "4b1ab3e6",
   "metadata": {},
   "outputs": [
    {
     "name": "stdout",
     "output_type": "stream",
     "text": [
      "<class 'int'> <class 'float'> <class 'str'>\n"
     ]
    }
   ],
   "source": [
    "a=int(22.5)\n",
    "b=float(22)\n",
    "c=str(22)\n",
    "print(type(a),type(b),type(c))"
   ]
  },
  {
   "cell_type": "code",
   "execution_count": 7,
   "id": "4ba57a4d",
   "metadata": {},
   "outputs": [
    {
     "name": "stdout",
     "output_type": "stream",
     "text": [
      "22 22.0 22 <class 'int'> <class 'float'> <class 'str'>\n",
      "22.0 22 22 <class 'float'> <class 'int'> <class 'int'>\n"
     ]
    }
   ],
   "source": [
    "a=int(22.5)\n",
    "b=float(22)\n",
    "c=str(22)\n",
    "a1=float(a)\n",
    "b1=int(b)\n",
    "c1=int(c)\n",
    "print(a,b,c,type(a),type(b),type(c))\n",
    "print(a1,b1,c1,type(a1),type(b1),type(c1))"
   ]
  },
  {
   "cell_type": "code",
   "execution_count": 8,
   "id": "71d58e93",
   "metadata": {},
   "outputs": [
    {
     "ename": "NameError",
     "evalue": "name 'd' is not defined",
     "output_type": "error",
     "traceback": [
      "\u001b[1;31m---------------------------------------------------------------------------\u001b[0m",
      "\u001b[1;31mNameError\u001b[0m                                 Traceback (most recent call last)",
      "Cell \u001b[1;32mIn[8], line 3\u001b[0m\n\u001b[0;32m      1\u001b[0m d\u001b[38;5;241m=\u001b[39m\u001b[38;5;241m22\u001b[39m\n\u001b[0;32m      2\u001b[0m \u001b[38;5;28;01mdel\u001b[39;00m d\n\u001b[1;32m----> 3\u001b[0m d\n",
      "\u001b[1;31mNameError\u001b[0m: name 'd' is not defined"
     ]
    }
   ],
   "source": [
    "d=22\n",
    "del d\n",
    "d"
   ]
  },
  {
   "cell_type": "code",
   "execution_count": 11,
   "id": "e8499ae7",
   "metadata": {},
   "outputs": [
    {
     "name": "stdout",
     "output_type": "stream",
     "text": [
      "6\n",
      "6\n"
     ]
    }
   ],
   "source": [
    "d='ramesh'\n",
    "c=len(d)\n",
    "print(c)\n",
    "count=0\n",
    "for i in d:\n",
    "    count+=1\n",
    "print(count)    "
   ]
  },
  {
   "cell_type": "code",
   "execution_count": 1,
   "id": "e6267fa4",
   "metadata": {},
   "outputs": [
    {
     "name": "stdout",
     "output_type": "stream",
     "text": [
      "5 3\n"
     ]
    }
   ],
   "source": [
    "a=5\n",
    "b=3\n",
    "print(a,b)"
   ]
  },
  {
   "cell_type": "code",
   "execution_count": 2,
   "id": "5742d6e2",
   "metadata": {},
   "outputs": [
    {
     "name": "stdout",
     "output_type": "stream",
     "text": [
      "1\n",
      "2\n",
      "3\n"
     ]
    }
   ],
   "source": [
    "a,b,c=1,2,3\n",
    "print(a)\n",
    "print(b)\n",
    "print(c)"
   ]
  },
  {
   "cell_type": "code",
   "execution_count": 5,
   "id": "76ca1c1b",
   "metadata": {},
   "outputs": [
    {
     "name": "stdout",
     "output_type": "stream",
     "text": [
      "600\n"
     ]
    }
   ],
   "source": [
    "c=s=d=200\n",
    "print(c+s+d)"
   ]
  },
  {
   "cell_type": "code",
   "execution_count": 6,
   "id": "f4fddd5c",
   "metadata": {},
   "outputs": [
    {
     "name": "stdout",
     "output_type": "stream",
     "text": [
      "22 <class 'int'>\n",
      "33 <class 'str'>\n"
     ]
    }
   ],
   "source": [
    "a=int(22)\n",
    "b=str(33)\n",
    "print(a,type(a))\n",
    "print(b,type(b))"
   ]
  },
  {
   "cell_type": "code",
   "execution_count": 7,
   "id": "49c64fed",
   "metadata": {},
   "outputs": [],
   "source": [
    "a=10\n",
    "del a"
   ]
  },
  {
   "cell_type": "code",
   "execution_count": 8,
   "id": "aeb03995",
   "metadata": {},
   "outputs": [
    {
     "name": "stdout",
     "output_type": "stream",
     "text": [
      "44\n",
      "33\n"
     ]
    }
   ],
   "source": [
    "a=33\n",
    "b=44\n",
    "a,b=b,a\n",
    "print(a)\n",
    "print(b)"
   ]
  },
  {
   "cell_type": "code",
   "execution_count": 13,
   "id": "ff3f36b7",
   "metadata": {},
   "outputs": [
    {
     "name": "stdout",
     "output_type": "stream",
     "text": [
      "6\n",
      "6\n",
      "5\n"
     ]
    }
   ],
   "source": [
    "a='ramesh'\n",
    "print(len(a))\n",
    "len_var=0\n",
    "index=0-1\n",
    "for i in a:\n",
    "    len_var+=1\n",
    "    index+=1\n",
    "print(len_var) \n",
    "print(index)   \n"
   ]
  },
  {
   "cell_type": "code",
   "execution_count": null,
   "id": "9a866461",
   "metadata": {},
   "outputs": [],
   "source": []
  }
 ],
 "metadata": {
  "kernelspec": {
   "display_name": "base",
   "language": "python",
   "name": "python3"
  },
  "language_info": {
   "codemirror_mode": {
    "name": "ipython",
    "version": 3
   },
   "file_extension": ".py",
   "mimetype": "text/x-python",
   "name": "python",
   "nbconvert_exporter": "python",
   "pygments_lexer": "ipython3",
   "version": "3.12.7"
  }
 },
 "nbformat": 4,
 "nbformat_minor": 5
}
