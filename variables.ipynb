{
 "cells": [
  {
   "cell_type": "markdown",
   "id": "068393dd",
   "metadata": {},
   "source": [
    " VARABLES\n",
    "\n",
    " variables are containner for storing value and data."
   ]
  },
  {
   "cell_type": "code",
   "execution_count": 1,
   "id": "a3a1342e",
   "metadata": {},
   "outputs": [
    {
     "name": "stdout",
     "output_type": "stream",
     "text": [
      "5 7\n"
     ]
    }
   ],
   "source": [
    "x=5\n",
    "p=7\n",
    "print(x,p)"
   ]
  },
  {
   "cell_type": "markdown",
   "id": "6e03756a",
   "metadata": {},
   "source": [
    "Variables rulese\n",
    "\n",
    " a variable name  must start with letters (a-z) or(A-Z) and underscore.\n",
    "\n",
    " variable name cannot start with a number. if want number to create variable can be start underscore(_) included digits 0-9 and special characters.\n",
    "\n",
    " no space alloweded alternative you can use undersocre. cannot use python keywords , reserve words.\n",
    "\n",
    " python is a case sensitive name != Name."
   ]
  },
  {
   "cell_type": "code",
   "execution_count": 2,
   "id": "faae66f5",
   "metadata": {},
   "outputs": [
    {
     "name": "stdout",
     "output_type": "stream",
     "text": [
      "i am ramesh  i old  20\n"
     ]
    }
   ],
   "source": [
    "a='i am ramesh'\n",
    "c=' i old '\n",
    "b=20\n",
    "print(a,c,b)"
   ]
  },
  {
   "cell_type": "code",
   "execution_count": null,
   "id": "592306a4",
   "metadata": {},
   "outputs": [],
   "source": [
    "my_name=\n",
    "MY_NAME=\n",
    "_1=\n",
    "RA_=\n"
   ]
  },
  {
   "cell_type": "code",
   "execution_count": 3,
   "id": "2f70bcdb",
   "metadata": {},
   "outputs": [
    {
     "name": "stdout",
     "output_type": "stream",
     "text": [
      "100\n",
      "100\n",
      "100\n"
     ]
    }
   ],
   "source": [
    "# ASSIGN MULTIPLE VALUES AND MARIABLES\n",
    "# assign same values\n",
    "a=c=b=100\n",
    "print(a)\n",
    "print(b)\n",
    "print(c)"
   ]
  },
  {
   "cell_type": "code",
   "execution_count": null,
   "id": "7df29ce6",
   "metadata": {},
   "outputs": [
    {
     "name": "stdout",
     "output_type": "stream",
     "text": [
      "ramesh location chennai\n",
      "rameshlocationchennai\n"
     ]
    }
   ],
   "source": [
    "# assign multiple values\n",
    "# python allows multiple variables to be assign muliple values in single line\n",
    "\n",
    "a,b,c='ramesh','location','chennai'\n",
    "print(a,b,c)\n",
    "print(a+b+c)"
   ]
  },
  {
   "cell_type": "markdown",
   "id": "bb77bc99",
   "metadata": {},
   "source": [
    "Type casting a variable\n",
    "\n",
    "if want specific data type of variable use it."
   ]
  },
  {
   "cell_type": "code",
   "execution_count": 6,
   "id": "3e88c134",
   "metadata": {},
   "outputs": [
    {
     "name": "stdout",
     "output_type": "stream",
     "text": [
      "22\n",
      "44.0\n",
      "10\n",
      "7j\n",
      "<class 'complex'>\n"
     ]
    }
   ],
   "source": [
    "a=int(22.0)\n",
    "b=float(44)\n",
    "c=str(10)\n",
    "d=complex(2j+5j)\n",
    "print(a)\n",
    "print(b)\n",
    "print(c)\n",
    "print(d)\n",
    "print(type(d))"
   ]
  },
  {
   "cell_type": "markdown",
   "id": "e8018e64",
   "metadata": {},
   "source": [
    "Casting \n",
    "\n",
    "cating means if want to get the data type of variable using with type().\n"
   ]
  },
  {
   "cell_type": "code",
   "execution_count": 7,
   "id": "eccd233d",
   "metadata": {},
   "outputs": [
    {
     "name": "stdout",
     "output_type": "stream",
     "text": [
      "<class 'float'>\n",
      "<class 'int'>\n",
      "<class 'int'>\n",
      "<class 'complex'>\n"
     ]
    }
   ],
   "source": [
    "a=(22.0)\n",
    "b=(44)\n",
    "c=(10)\n",
    "d=(2j+5j)\n",
    "print(type(a))\n",
    "print(type(b))\n",
    "print(type(c))\n",
    "print(type(d))"
   ]
  },
  {
   "cell_type": "code",
   "execution_count": null,
   "id": "85d4a83b",
   "metadata": {},
   "outputs": [],
   "source": []
  }
 ],
 "metadata": {
  "kernelspec": {
   "display_name": "base",
   "language": "python",
   "name": "python3"
  },
  "language_info": {
   "codemirror_mode": {
    "name": "ipython",
    "version": 3
   },
   "file_extension": ".py",
   "mimetype": "text/x-python",
   "name": "python",
   "nbconvert_exporter": "python",
   "pygments_lexer": "ipython3",
   "version": "3.12.7"
  }
 },
 "nbformat": 4,
 "nbformat_minor": 5
}
