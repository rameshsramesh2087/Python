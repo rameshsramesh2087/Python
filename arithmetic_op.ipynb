{
 "cells": [
  {
   "cell_type": "markdown",
   "id": "039a54c6",
   "metadata": {},
   "source": [
    "operators\n"
   ]
  },
  {
   "cell_type": "markdown",
   "id": "2c8eab59",
   "metadata": {},
   "source": [
    "Arithmetic operation \n",
    "\n",
    "are used with numeric values to perform basic mathematics operation."
   ]
  },
  {
   "cell_type": "code",
   "execution_count": 2,
   "id": "31963c4e",
   "metadata": {},
   "outputs": [
    {
     "name": "stdout",
     "output_type": "stream",
     "text": [
      "66\n",
      "77\n"
     ]
    }
   ],
   "source": [
    "print(22+44)\n",
    "a=33\n",
    "b=44\n",
    "print(a+b)"
   ]
  },
  {
   "cell_type": "code",
   "execution_count": 5,
   "id": "482cbdb6",
   "metadata": {},
   "outputs": [
    {
     "name": "stdout",
     "output_type": "stream",
     "text": [
      "-11\n",
      "11\n",
      "-45\n"
     ]
    }
   ],
   "source": [
    "a=33\n",
    "b=44\n",
    "print(a-b)\n",
    "print(b-a)\n",
    "print(55-100)"
   ]
  },
  {
   "cell_type": "code",
   "execution_count": 7,
   "id": "cf776198",
   "metadata": {},
   "outputs": [
    {
     "name": "stdout",
     "output_type": "stream",
     "text": [
      "7326\n",
      "193314\n"
     ]
    }
   ],
   "source": [
    "print(222*33)\n",
    "print(2222*87)"
   ]
  },
  {
   "cell_type": "code",
   "execution_count": 10,
   "id": "a2058ab6",
   "metadata": {},
   "outputs": [
    {
     "name": "stdout",
     "output_type": "stream",
     "text": [
      "3.3333333333333335\n",
      "0.75\n",
      "0.75\n"
     ]
    }
   ],
   "source": [
    "print(10/3)\n",
    "print(a/b)\n",
    "a=33\n",
    "b=44\n",
    "print(a/b)"
   ]
  },
  {
   "cell_type": "code",
   "execution_count": 11,
   "id": "7b52de94",
   "metadata": {},
   "outputs": [
    {
     "name": "stdout",
     "output_type": "stream",
     "text": [
      "17.6\n"
     ]
    }
   ],
   "source": [
    "a=44\n",
    "b=2.5\n",
    "print(a/b)"
   ]
  },
  {
   "cell_type": "code",
   "execution_count": 16,
   "id": "c886f677",
   "metadata": {},
   "outputs": [
    {
     "name": "stdout",
     "output_type": "stream",
     "text": [
      "0\n",
      "1\n",
      "1\n"
     ]
    }
   ],
   "source": [
    "print(10%2)\n",
    "print(10%3)\n",
    "print(40003%2)"
   ]
  },
  {
   "cell_type": "code",
   "execution_count": 18,
   "id": "82778ba1",
   "metadata": {},
   "outputs": [
    {
     "name": "stdout",
     "output_type": "stream",
     "text": [
      "7\n",
      "7.333333333333333\n"
     ]
    }
   ],
   "source": [
    "print(22//3)\n",
    "print(22/3)"
   ]
  },
  {
   "cell_type": "code",
   "execution_count": null,
   "id": "93798959",
   "metadata": {},
   "outputs": [],
   "source": []
  }
 ],
 "metadata": {
  "kernelspec": {
   "display_name": "base",
   "language": "python",
   "name": "python3"
  },
  "language_info": {
   "codemirror_mode": {
    "name": "ipython",
    "version": 3
   },
   "file_extension": ".py",
   "mimetype": "text/x-python",
   "name": "python",
   "nbconvert_exporter": "python",
   "pygments_lexer": "ipython3",
   "version": "3.12.7"
  }
 },
 "nbformat": 4,
 "nbformat_minor": 5
}
