{
 "cells": [
  {
   "cell_type": "code",
   "execution_count": 8,
   "id": "ded47119",
   "metadata": {},
   "outputs": [
    {
     "name": "stdout",
     "output_type": "stream",
     "text": [
      "i  am,ramesh\n"
     ]
    }
   ],
   "source": [
    "print('i  am,',end='')\n",
    "print('ramesh')"
   ]
  },
  {
   "cell_type": "code",
   "execution_count": 9,
   "id": "ad4f338b",
   "metadata": {},
   "outputs": [
    {
     "name": "stdout",
     "output_type": "stream",
     "text": [
      "2+3=5\n"
     ]
    }
   ],
   "source": [
    "print('2+3',end='=')\n",
    "print(2+3)"
   ]
  },
  {
   "cell_type": "code",
   "execution_count": 14,
   "id": "6f031f02",
   "metadata": {},
   "outputs": [
    {
     "name": "stdout",
     "output_type": "stream",
     "text": [
      "apple fruits: cherry fruits: kiwiorange banana\n"
     ]
    }
   ],
   "source": [
    "print('apple','cherry','kiwi',sep=' fruits: ',end='')\n",
    "print('orange','banana')"
   ]
  },
  {
   "cell_type": "code",
   "execution_count": 15,
   "id": "6582a33a",
   "metadata": {},
   "outputs": [
    {
     "name": "stdout",
     "output_type": "stream",
     "text": [
      "r\n",
      "a\n",
      "meash\n"
     ]
    }
   ],
   "source": [
    "print('r\\na\\nmeash')"
   ]
  },
  {
   "cell_type": "code",
   "execution_count": 16,
   "id": "e2896f72",
   "metadata": {},
   "outputs": [
    {
     "name": "stdout",
     "output_type": "stream",
     "text": [
      "i\tam\tramesh\n"
     ]
    }
   ],
   "source": [
    "print('i\\tam\\tramesh')"
   ]
  },
  {
   "cell_type": "code",
   "execution_count": 18,
   "id": "d3ef15df",
   "metadata": {},
   "outputs": [
    {
     "name": "stdout",
     "output_type": "stream",
     "text": [
      "i'm ramesh ,what\"s your name\n"
     ]
    }
   ],
   "source": [
    "print('i\\'m ramesh ,what\\\"s your name')"
   ]
  },
  {
   "cell_type": "code",
   "execution_count": 26,
   "id": "45b04e12",
   "metadata": {},
   "outputs": [
    {
     "name": "stdout",
     "output_type": "stream",
     "text": [
      "ramesh\n"
     ]
    }
   ],
   "source": [
    "print('ramesh')"
   ]
  },
  {
   "cell_type": "code",
   "execution_count": 28,
   "id": "6f9e8082",
   "metadata": {},
   "outputs": [
    {
     "name": "stdout",
     "output_type": "stream",
     "text": [
      "fromsh\n"
     ]
    }
   ],
   "source": [
    "print('i\\ram\\rramesh\\rfrom')"
   ]
  }
 ],
 "metadata": {
  "kernelspec": {
   "display_name": "base",
   "language": "python",
   "name": "python3"
  },
  "language_info": {
   "codemirror_mode": {
    "name": "ipython",
    "version": 3
   },
   "file_extension": ".py",
   "mimetype": "text/x-python",
   "name": "python",
   "nbconvert_exporter": "python",
   "pygments_lexer": "ipython3",
   "version": "3.12.7"
  }
 },
 "nbformat": 4,
 "nbformat_minor": 5
}
