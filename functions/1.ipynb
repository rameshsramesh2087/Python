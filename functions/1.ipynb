{
 "cells": [
  {
   "cell_type": "code",
   "execution_count": 3,
   "id": "9aec7ba3",
   "metadata": {},
   "outputs": [
    {
     "name": "stdout",
     "output_type": "stream",
     "text": [
      "75\n",
      "30\n"
     ]
    }
   ],
   "source": [
    "def sum():\n",
    "    a = 10\n",
    "    b = 20\n",
    "    print(a + b)\n",
    "\n",
    "def paraCalc(a, b, operator):\n",
    "    if operator == \"+\":\n",
    "        print(a + b)\n",
    "    elif operator == \"-\":\n",
    "        print(a - b)\n",
    "    else:\n",
    "        print(\"Invalid Operator\")\n",
    "\n",
    "\n",
    "paraCalc(15, 60, \"+\")\n",
    "sum()"
   ]
  },
  {
   "cell_type": "markdown",
   "id": "bd0504f9",
   "metadata": {},
   "source": [
    "NORMAL FUNCTION"
   ]
  },
  {
   "cell_type": "code",
   "execution_count": 4,
   "id": "4eb935bf",
   "metadata": {},
   "outputs": [
    {
     "name": "stdout",
     "output_type": "stream",
     "text": [
      "i am programmer\n",
      "i am developer\n"
     ]
    }
   ],
   "source": [
    "def h():\n",
    "    print('i am programmer')\n",
    "    print('i am developer')\n",
    "h()    "
   ]
  },
  {
   "cell_type": "code",
   "execution_count": 7,
   "id": "21d6f1c4",
   "metadata": {},
   "outputs": [
    {
     "name": "stdout",
     "output_type": "stream",
     "text": [
      "55\n",
      "66\n"
     ]
    }
   ],
   "source": [
    "def d():\n",
    "    a=22\n",
    "    b=44\n",
    "    print(a+b)\n",
    "def s(a,b,op):\n",
    "    if op==\"+\":\n",
    "        print(a+b)\n",
    "    elif op=='-':\n",
    "        print(a-b)\n",
    "    else:\n",
    "        print('invalid')\n",
    "s(22,33,\"+\") \n",
    "d()                 "
   ]
  },
  {
   "cell_type": "code",
   "execution_count": null,
   "id": "faac87ba",
   "metadata": {},
   "outputs": [],
   "source": []
  }
 ],
 "metadata": {
  "kernelspec": {
   "display_name": "base",
   "language": "python",
   "name": "python3"
  },
  "language_info": {
   "codemirror_mode": {
    "name": "ipython",
    "version": 3
   },
   "file_extension": ".py",
   "mimetype": "text/x-python",
   "name": "python",
   "nbconvert_exporter": "python",
   "pygments_lexer": "ipython3",
   "version": "3.12.7"
  }
 },
 "nbformat": 4,
 "nbformat_minor": 5
}
