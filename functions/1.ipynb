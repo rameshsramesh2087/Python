{
 "cells": [
  {
   "cell_type": "code",
   "execution_count": 3,
   "id": "9aec7ba3",
   "metadata": {},
   "outputs": [
    {
     "name": "stdout",
     "output_type": "stream",
     "text": [
      "75\n",
      "30\n"
     ]
    }
   ],
   "source": [
    "def sum():\n",
    "    a = 10\n",
    "    b = 20\n",
    "    print(a + b)\n",
    "\n",
    "def paraCalc(a, b, operator):\n",
    "    if operator == \"+\":\n",
    "        print(a + b)\n",
    "    elif operator == \"-\":\n",
    "        print(a - b)\n",
    "    else:\n",
    "        print(\"Invalid Operator\")\n",
    "\n",
    "\n",
    "paraCalc(15, 60, \"+\")\n",
    "sum()"
   ]
  },
  {
   "cell_type": "markdown",
   "id": "bd0504f9",
   "metadata": {},
   "source": [
    "NORMAL FUNCTION"
   ]
  },
  {
   "cell_type": "code",
   "execution_count": 4,
   "id": "4eb935bf",
   "metadata": {},
   "outputs": [
    {
     "name": "stdout",
     "output_type": "stream",
     "text": [
      "i am programmer\n",
      "i am developer\n"
     ]
    }
   ],
   "source": [
    "def h():\n",
    "    print('i am programmer')\n",
    "    print('i am developer')\n",
    "h()    "
   ]
  },
  {
   "cell_type": "code",
   "execution_count": 7,
   "id": "21d6f1c4",
   "metadata": {},
   "outputs": [
    {
     "name": "stdout",
     "output_type": "stream",
     "text": [
      "55\n",
      "66\n"
     ]
    }
   ],
   "source": [
    "def d():\n",
    "    a=22\n",
    "    b=44\n",
    "    print(a+b)\n",
    "def s(a,b,op):\n",
    "    if op==\"+\":\n",
    "        print(a+b)\n",
    "    elif op=='-':\n",
    "        print(a-b)\n",
    "    else:\n",
    "        print('invalid')\n",
    "s(22,33,\"+\") \n",
    "d()                 "
   ]
  },
  {
   "cell_type": "code",
   "execution_count": 10,
   "id": "faac87ba",
   "metadata": {},
   "outputs": [
    {
     "name": "stdout",
     "output_type": "stream",
     "text": [
      "5\n"
     ]
    }
   ],
   "source": [
    "def add(a,b,op):\n",
    "    if op=='*':\n",
    "        print(a+b)\n",
    "\n",
    "add(2,3,\"*\")        \n",
    "    "
   ]
  },
  {
   "cell_type": "code",
   "execution_count": 13,
   "id": "c0639ecd",
   "metadata": {},
   "outputs": [
    {
     "name": "stdout",
     "output_type": "stream",
     "text": [
      "5\n"
     ]
    }
   ],
   "source": [
    "def ss(a=0,b=0,op=\"*\"):\n",
    "    if op=='+':\n",
    "        print(a+b)\n",
    "    elif op=='-':\n",
    "        print(a-b)\n",
    "    elif op=='*':\n",
    "        print(a*b)    \n",
    "ss(2,3,\"+\")            "
   ]
  },
  {
   "cell_type": "code",
   "execution_count": 15,
   "id": "ef8dcd25",
   "metadata": {},
   "outputs": [
    {
     "name": "stdout",
     "output_type": "stream",
     "text": [
      "10\n"
     ]
    }
   ],
   "source": [
    "def a(a,b,c):\n",
    "    print(a+b-c)\n",
    "a(10,5,5)    "
   ]
  },
  {
   "cell_type": "code",
   "execution_count": 24,
   "id": "e31a0122",
   "metadata": {},
   "outputs": [
    {
     "name": "stdout",
     "output_type": "stream",
     "text": [
      "<class 'tuple'>\n",
      "6\n"
     ]
    }
   ],
   "source": [
    "def ss(*f):\n",
    "    count=0\n",
    "    for i in f:\n",
    "        count+=i\n",
    "    print(type(f))\n",
    "    print(count)\n",
    "ss(1,2,3)        \n"
   ]
  },
  {
   "cell_type": "code",
   "execution_count": 22,
   "id": "ea6576b1",
   "metadata": {},
   "outputs": [
    {
     "name": "stdout",
     "output_type": "stream",
     "text": [
      "<class 'dict'>\n",
      "{'name': 'ramesh', 'age': '20', 'occupation': 'fresher'}\n"
     ]
    }
   ],
   "source": [
    "def ss(**keys):\n",
    "    print(type(keys))\n",
    "    print(keys)\n",
    "ss(name='ramesh',age='20',occupation='fresher')    "
   ]
  },
  {
   "cell_type": "code",
   "execution_count": null,
   "id": "2c6053ca",
   "metadata": {},
   "outputs": [],
   "source": []
  }
 ],
 "metadata": {
  "kernelspec": {
   "display_name": "base",
   "language": "python",
   "name": "python3"
  },
  "language_info": {
   "codemirror_mode": {
    "name": "ipython",
    "version": 3
   },
   "file_extension": ".py",
   "mimetype": "text/x-python",
   "name": "python",
   "nbconvert_exporter": "python",
   "pygments_lexer": "ipython3",
   "version": "3.12.7"
  }
 },
 "nbformat": 4,
 "nbformat_minor": 5
}
