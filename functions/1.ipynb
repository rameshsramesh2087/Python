{
 "cells": [
  {
   "cell_type": "code",
   "execution_count": 3,
   "id": "9aec7ba3",
   "metadata": {},
   "outputs": [
    {
     "name": "stdout",
     "output_type": "stream",
     "text": [
      "75\n",
      "30\n"
     ]
    }
   ],
   "source": [
    "def sum():\n",
    "    a = 10\n",
    "    b = 20\n",
    "    print(a + b)\n",
    "\n",
    "def paraCalc(a, b, operator):\n",
    "    if operator == \"+\":\n",
    "        print(a + b)\n",
    "    elif operator == \"-\":\n",
    "        print(a - b)\n",
    "    else:\n",
    "        print(\"Invalid Operator\")\n",
    "\n",
    "\n",
    "paraCalc(15, 60, \"+\")\n",
    "sum()"
   ]
  },
  {
   "cell_type": "code",
   "execution_count": null,
   "id": "4eb935bf",
   "metadata": {},
   "outputs": [],
   "source": []
  }
 ],
 "metadata": {
  "kernelspec": {
   "display_name": "base",
   "language": "python",
   "name": "python3"
  },
  "language_info": {
   "codemirror_mode": {
    "name": "ipython",
    "version": 3
   },
   "file_extension": ".py",
   "mimetype": "text/x-python",
   "name": "python",
   "nbconvert_exporter": "python",
   "pygments_lexer": "ipython3",
   "version": "3.12.7"
  }
 },
 "nbformat": 4,
 "nbformat_minor": 5
}
