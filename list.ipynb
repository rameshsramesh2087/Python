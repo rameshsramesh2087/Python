{
 "cells": [
  {
   "cell_type": "code",
   "execution_count": 3,
   "id": "109e7e28",
   "metadata": {},
   "outputs": [
    {
     "name": "stdout",
     "output_type": "stream",
     "text": [
      "7\n",
      "5\n"
     ]
    }
   ],
   "source": [
    "# list length\n",
    "a=[1,2,3,4,5,6,7]\n",
    "print(len(a))\n",
    "\n",
    "sec_list=['banana','orange','cherry','kiwi','apple']\n",
    "print(len(sec_list))"
   ]
  },
  {
   "cell_type": "code",
   "execution_count": 9,
   "id": "e00ebd87",
   "metadata": {},
   "outputs": [
    {
     "name": "stdout",
     "output_type": "stream",
     "text": [
      "['arul', 'arun', 'aravind', 'madhan']\n",
      "['ramesh', 'arul', 'arun', 'aravind']\n",
      "['ramesh', 'arul', 'arun', 'aravind', 'madhan']\n",
      "['ramesh', 'arul']\n",
      "arun\n"
     ]
    }
   ],
   "source": [
    "# accessing\n",
    "list_1=['ramesh','arul','arun','aravind','madhan']\n",
    "print(list_1[1:])\n",
    "print(list_1[:-1])\n",
    "print(list_1[:])\n",
    "print(list_1[0:2])\n",
    "print(list_1[2])\n"
   ]
  },
  {
   "cell_type": "code",
   "execution_count": null,
   "id": "8c265d1d",
   "metadata": {},
   "outputs": [
    {
     "data": {
      "text/plain": [
       "['Ramesh', 'Arul', 'Arun', 'Aravind', 'madhan']"
      ]
     },
     "execution_count": 8,
     "metadata": {},
     "output_type": "execute_result"
    }
   ],
   "source": [
    "# changing specific list items\n",
    "list_1=['ramesh','arul','arun','aravind','madhan']\n",
    "list_1[0]='Ramesh'\n",
    "list_1[1]='Arul'\n",
    "list_1[2]='Arun'\n",
    "list_1[3]='Aravind'\n"
   ]
  },
  {
   "cell_type": "code",
   "execution_count": 10,
   "id": "e3dde8a7",
   "metadata": {},
   "outputs": [
    {
     "data": {
      "text/plain": [
       "['ramesh', 'apple', 'cherry', 'arun', 'aravind', 'madhan']"
      ]
     },
     "execution_count": 10,
     "metadata": {},
     "output_type": "execute_result"
    }
   ],
   "source": [
    "a=['ramesh','arul','arun','aravind','madhan']\n",
    "a[1:2]=['apple','cherry']\n",
    "a"
   ]
  },
  {
   "cell_type": "code",
   "execution_count": null,
   "id": "6c447994",
   "metadata": {},
   "outputs": [
    {
     "data": {
      "text/plain": [
       "['apple', 'cherry', 'pineapple', 'watermelon', 'kiwi']"
      ]
     },
     "execution_count": 11,
     "metadata": {},
     "output_type": "execute_result"
    }
   ],
   "source": [
    "# add-item in list / append('  ') add value last position in list\n",
    "a=[]\n",
    "a.append('apple')\n",
    "a.append('cherry')\n",
    "a.append('pineapple')\n",
    "a.append('watermelon')\n",
    "a.append('kiwi')\n",
    "a"
   ]
  },
  {
   "cell_type": "code",
   "execution_count": null,
   "id": "5f3a953c",
   "metadata": {},
   "outputs": [
    {
     "data": {
      "text/plain": [
       "['orange',\n",
       " 'graphes',\n",
       " 'pomegranate',\n",
       " 'apple',\n",
       " 'cherry',\n",
       " 'pineapple',\n",
       " 'watermelon',\n",
       " 'kiwi']"
      ]
     },
     "execution_count": 13,
     "metadata": {},
     "output_type": "execute_result"
    }
   ],
   "source": [
    "# insert  value specific position usind index .insert(1,'')\n",
    "b_list=['apple', 'cherry', 'pineapple', 'watermelon', 'kiwi']\n",
    "b_list.insert(0,'orange')\n",
    "b_list.insert(1,'graphes')\n",
    "b_list.insert(2,'pomegranate')\n",
    "b_list"
   ]
  },
  {
   "cell_type": "code",
   "execution_count": 14,
   "id": "cf81b02d",
   "metadata": {},
   "outputs": [
    {
     "data": {
      "text/plain": [
       "[1, 2, 3, 4, 5, 6, 7, 8, 9, 10]"
      ]
     },
     "execution_count": 14,
     "metadata": {},
     "output_type": "execute_result"
    }
   ],
   "source": [
    "# extend list in last / a.extend(b)\n",
    "a=[1,2,3,4,5,6]\n",
    "b=[7,8,9,10]\n",
    "a.extend(b)\n",
    "a"
   ]
  },
  {
   "cell_type": "code",
   "execution_count": 17,
   "id": "955783bb",
   "metadata": {},
   "outputs": [
    {
     "data": {
      "text/plain": [
       "[1, 2, 3, 4, 5, 6, 7, 8, 9, 10]"
      ]
     },
     "execution_count": 17,
     "metadata": {},
     "output_type": "execute_result"
    }
   ],
   "source": [
    "a=[1,2,3,4,5]\n",
    "b=[6,7,8,9,10]\n",
    "c=a+b\n",
    "c"
   ]
  },
  {
   "cell_type": "markdown",
   "id": "92f5eaad",
   "metadata": {},
   "source": [
    "Remove"
   ]
  },
  {
   "cell_type": "code",
   "execution_count": 18,
   "id": "93dedf2a",
   "metadata": {},
   "outputs": [
    {
     "data": {
      "text/plain": [
       "['graphes']"
      ]
     },
     "execution_count": 18,
     "metadata": {},
     "output_type": "execute_result"
    }
   ],
   "source": [
    "# remove specific value using / a.remove('')\n",
    "a=['banana','cherry','apple','graphes']\n",
    "a.remove('banana')\n",
    "a.remove('cherry')\n",
    "a.remove('apple')\n",
    "a"
   ]
  },
  {
   "cell_type": "code",
   "execution_count": 20,
   "id": "c4a0ca75",
   "metadata": {},
   "outputs": [
    {
     "data": {
      "text/plain": [
       "['pineapple', 'watermelon']"
      ]
     },
     "execution_count": 20,
     "metadata": {},
     "output_type": "execute_result"
    }
   ],
   "source": [
    "# .pop(i) remove to specific value to index values \n",
    "p_list=['apple', 'cherry', 'pineapple', 'watermelon', 'kiwi']\n",
    "p_list.pop(0)\n",
    "p_list.pop(0)\n",
    "p_list.pop(2)\n",
    "p_list"
   ]
  },
  {
   "cell_type": "code",
   "execution_count": 21,
   "id": "25033d2b",
   "metadata": {},
   "outputs": [
    {
     "name": "stdout",
     "output_type": "stream",
     "text": [
      "['apple']\n"
     ]
    }
   ],
   "source": [
    "# remove last item in list using .pop() without indexing\n",
    "a=['apple', 'cherry', 'pineapple', 'watermelon', 'kiwi']\n",
    "a.pop()\n",
    "a.pop()\n",
    "a.pop()\n",
    "a.pop()\n",
    "print(a)"
   ]
  },
  {
   "cell_type": "markdown",
   "id": "42c36b59",
   "metadata": {},
   "source": [
    "Sort"
   ]
  },
  {
   "cell_type": "code",
   "execution_count": 23,
   "id": "da3a2dd4",
   "metadata": {},
   "outputs": [
    {
     "data": {
      "text/plain": [
       "[1, 2, 3, 4, 5, 6, 7, 8, 9]"
      ]
     },
     "execution_count": 23,
     "metadata": {},
     "output_type": "execute_result"
    }
   ],
   "source": [
    "a=[9,7,8,6,5,4,3,1,2]\n",
    "a.sort()\n",
    "a"
   ]
  },
  {
   "cell_type": "code",
   "execution_count": null,
   "id": "2c761547",
   "metadata": {},
   "outputs": [
    {
     "data": {
      "text/plain": [
       "['apple', 'banana', 'cherry', 'dragonfruit', 'orange']"
      ]
     },
     "execution_count": 24,
     "metadata": {},
     "output_type": "execute_result"
    }
   ],
   "source": [
    "# ascending\n",
    "apha=['orange','banana','cherry','apple','dragonfruit']\n",
    "apha.sort()\n",
    "apha"
   ]
  },
  {
   "cell_type": "code",
   "execution_count": null,
   "id": "196b9f1f",
   "metadata": {},
   "outputs": [
    {
     "data": {
      "text/plain": [
       "['orange', 'dragonfruit', 'cherry', 'banana', 'apple']"
      ]
     },
     "execution_count": 25,
     "metadata": {},
     "output_type": "execute_result"
    }
   ],
   "source": [
    "# descending\n",
    "a=['apple', 'banana', 'cherry', 'dragonfruit', 'orange']\n",
    "a.sort(reverse = True)\n",
    "a"
   ]
  },
  {
   "cell_type": "code",
   "execution_count": 26,
   "id": "29b8d7dc",
   "metadata": {},
   "outputs": [
    {
     "data": {
      "text/plain": [
       "[8, 7, 6, 5, 4, 3, 2, 1]"
      ]
     },
     "execution_count": 26,
     "metadata": {},
     "output_type": "execute_result"
    }
   ],
   "source": [
    "a=[1,2,3,4,5,6,7,8]\n",
    "a.reverse()\n",
    "a"
   ]
  },
  {
   "cell_type": "code",
   "execution_count": 27,
   "id": "3c39d6fa",
   "metadata": {},
   "outputs": [
    {
     "name": "stdout",
     "output_type": "stream",
     "text": [
      "1952987606528\n",
      "1952973463744\n",
      "[1, 2, 3, 4, 5] [1, 2, 3, 4, 5]\n"
     ]
    }
   ],
   "source": [
    "# copy()\n",
    "a=[1,2,3,4,5]\n",
    "b=a.copy()\n",
    "print(id(a))\n",
    "print(id(b))\n",
    "print(a,b)"
   ]
  },
  {
   "cell_type": "code",
   "execution_count": 28,
   "id": "1109cde9",
   "metadata": {},
   "outputs": [
    {
     "data": {
      "text/plain": [
       "[1, 2, 3, 4, 5]"
      ]
     },
     "execution_count": 28,
     "metadata": {},
     "output_type": "execute_result"
    }
   ],
   "source": [
    "a=[1,2,3,4,5]\n",
    "b=a[:]\n",
    "b"
   ]
  },
  {
   "cell_type": "code",
   "execution_count": 30,
   "id": "75bba899",
   "metadata": {},
   "outputs": [
    {
     "name": "stdout",
     "output_type": "stream",
     "text": [
      "[1, 2, 3, 4, 5]\n"
     ]
    },
    {
     "data": {
      "text/plain": [
       "[1, 2, 3, 4, 5]"
      ]
     },
     "execution_count": 30,
     "metadata": {},
     "output_type": "execute_result"
    }
   ],
   "source": [
    "c=[1,2,3,4,5]\n",
    "a=list(c)\n",
    "b=c\n",
    "print(c)\n",
    "a"
   ]
  },
  {
   "cell_type": "code",
   "execution_count": null,
   "id": "3df138a4",
   "metadata": {},
   "outputs": [],
   "source": []
  }
 ],
 "metadata": {
  "kernelspec": {
   "display_name": "base",
   "language": "python",
   "name": "python3"
  },
  "language_info": {
   "codemirror_mode": {
    "name": "ipython",
    "version": 3
   },
   "file_extension": ".py",
   "mimetype": "text/x-python",
   "name": "python",
   "nbconvert_exporter": "python",
   "pygments_lexer": "ipython3",
   "version": "3.12.7"
  }
 },
 "nbformat": 4,
 "nbformat_minor": 5
}
