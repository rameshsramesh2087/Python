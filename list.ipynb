{
 "cells": [
  {
   "cell_type": "code",
   "execution_count": 3,
   "id": "109e7e28",
   "metadata": {},
   "outputs": [
    {
     "name": "stdout",
     "output_type": "stream",
     "text": [
      "7\n",
      "5\n"
     ]
    }
   ],
   "source": [
    "# list length\n",
    "a=[1,2,3,4,5,6,7]\n",
    "print(len(a))\n",
    "\n",
    "sec_list=['banana','orange','cherry','kiwi','apple']\n",
    "print(len(sec_list))"
   ]
  },
  {
   "cell_type": "code",
   "execution_count": 9,
   "id": "e00ebd87",
   "metadata": {},
   "outputs": [
    {
     "name": "stdout",
     "output_type": "stream",
     "text": [
      "['arul', 'arun', 'aravind', 'madhan']\n",
      "['ramesh', 'arul', 'arun', 'aravind']\n",
      "['ramesh', 'arul', 'arun', 'aravind', 'madhan']\n",
      "['ramesh', 'arul']\n",
      "arun\n"
     ]
    }
   ],
   "source": [
    "# accessing\n",
    "list_1=['ramesh','arul','arun','aravind','madhan']\n",
    "print(list_1[1:])\n",
    "print(list_1[:-1])\n",
    "print(list_1[:])\n",
    "print(list_1[0:2])\n",
    "print(list_1[2])\n"
   ]
  },
  {
   "cell_type": "code",
   "execution_count": null,
   "id": "8c265d1d",
   "metadata": {},
   "outputs": [
    {
     "data": {
      "text/plain": [
       "['Ramesh', 'Arul', 'Arun', 'Aravind', 'madhan']"
      ]
     },
     "execution_count": 8,
     "metadata": {},
     "output_type": "execute_result"
    }
   ],
   "source": [
    "# changing specific list items\n",
    "list_1=['ramesh','arul','arun','aravind','madhan']\n",
    "list_1[0]='Ramesh'\n",
    "list_1[1]='Arul'\n",
    "list_1[2]='Arun'\n",
    "list_1[3]='Aravind'\n"
   ]
  },
  {
   "cell_type": "code",
   "execution_count": 10,
   "id": "e3dde8a7",
   "metadata": {},
   "outputs": [
    {
     "data": {
      "text/plain": [
       "['ramesh', 'apple', 'cherry', 'arun', 'aravind', 'madhan']"
      ]
     },
     "execution_count": 10,
     "metadata": {},
     "output_type": "execute_result"
    }
   ],
   "source": [
    "a=['ramesh','arul','arun','aravind','madhan']\n",
    "a[1:2]=['apple','cherry']\n",
    "a"
   ]
  },
  {
   "cell_type": "code",
   "execution_count": null,
   "id": "6c447994",
   "metadata": {},
   "outputs": [
    {
     "data": {
      "text/plain": [
       "['apple', 'cherry', 'pineapple', 'watermelon', 'kiwi']"
      ]
     },
     "execution_count": 11,
     "metadata": {},
     "output_type": "execute_result"
    }
   ],
   "source": [
    "# add-item in list / append('  ') add value last position in list\n",
    "a=[]\n",
    "a.append('apple')\n",
    "a.append('cherry')\n",
    "a.append('pineapple')\n",
    "a.append('watermelon')\n",
    "a.append('kiwi')\n",
    "a"
   ]
  },
  {
   "cell_type": "code",
   "execution_count": null,
   "id": "5f3a953c",
   "metadata": {},
   "outputs": [
    {
     "data": {
      "text/plain": [
       "['orange',\n",
       " 'graphes',\n",
       " 'pomegranate',\n",
       " 'apple',\n",
       " 'cherry',\n",
       " 'pineapple',\n",
       " 'watermelon',\n",
       " 'kiwi']"
      ]
     },
     "execution_count": 13,
     "metadata": {},
     "output_type": "execute_result"
    }
   ],
   "source": [
    "# insert  value specific position usind index .insert(1,'')\n",
    "b_list=['apple', 'cherry', 'pineapple', 'watermelon', 'kiwi']\n",
    "b_list.insert(0,'orange')\n",
    "b_list.insert(1,'graphes')\n",
    "b_list.insert(2,'pomegranate')\n",
    "b_list"
   ]
  },
  {
   "cell_type": "code",
   "execution_count": 14,
   "id": "cf81b02d",
   "metadata": {},
   "outputs": [
    {
     "data": {
      "text/plain": [
       "[1, 2, 3, 4, 5, 6, 7, 8, 9, 10]"
      ]
     },
     "execution_count": 14,
     "metadata": {},
     "output_type": "execute_result"
    }
   ],
   "source": [
    "# extend list in last / a.extend(b)\n",
    "a=[1,2,3,4,5,6]\n",
    "b=[7,8,9,10]\n",
    "a.extend(b)\n",
    "a"
   ]
  },
  {
   "cell_type": "code",
   "execution_count": 17,
   "id": "955783bb",
   "metadata": {},
   "outputs": [
    {
     "data": {
      "text/plain": [
       "[1, 2, 3, 4, 5, 6, 7, 8, 9, 10]"
      ]
     },
     "execution_count": 17,
     "metadata": {},
     "output_type": "execute_result"
    }
   ],
   "source": [
    "a=[1,2,3,4,5]\n",
    "b=[6,7,8,9,10]\n",
    "c=a+b\n",
    "c"
   ]
  },
  {
   "cell_type": "markdown",
   "id": "92f5eaad",
   "metadata": {},
   "source": [
    "Remove"
   ]
  },
  {
   "cell_type": "code",
   "execution_count": 18,
   "id": "93dedf2a",
   "metadata": {},
   "outputs": [
    {
     "data": {
      "text/plain": [
       "['graphes']"
      ]
     },
     "execution_count": 18,
     "metadata": {},
     "output_type": "execute_result"
    }
   ],
   "source": [
    "# remove specific value using / a.remove('')\n",
    "a=['banana','cherry','apple','graphes']\n",
    "a.remove('banana')\n",
    "a.remove('cherry')\n",
    "a.remove('apple')\n",
    "a"
   ]
  },
  {
   "cell_type": "code",
   "execution_count": 20,
   "id": "c4a0ca75",
   "metadata": {},
   "outputs": [
    {
     "data": {
      "text/plain": [
       "['pineapple', 'watermelon']"
      ]
     },
     "execution_count": 20,
     "metadata": {},
     "output_type": "execute_result"
    }
   ],
   "source": [
    "# .pop(i) remove to specific value to index values \n",
    "p_list=['apple', 'cherry', 'pineapple', 'watermelon', 'kiwi']\n",
    "p_list.pop(0)\n",
    "p_list.pop(0)\n",
    "p_list.pop(2)\n",
    "p_list"
   ]
  },
  {
   "cell_type": "code",
   "execution_count": 21,
   "id": "25033d2b",
   "metadata": {},
   "outputs": [
    {
     "name": "stdout",
     "output_type": "stream",
     "text": [
      "['apple']\n"
     ]
    }
   ],
   "source": [
    "# remove last item in list using .pop() without indexing\n",
    "a=['apple', 'cherry', 'pineapple', 'watermelon', 'kiwi']\n",
    "a.pop()\n",
    "a.pop()\n",
    "a.pop()\n",
    "a.pop()\n",
    "print(a)"
   ]
  },
  {
   "cell_type": "markdown",
   "id": "42c36b59",
   "metadata": {},
   "source": [
    "Sort"
   ]
  },
  {
   "cell_type": "code",
   "execution_count": 23,
   "id": "da3a2dd4",
   "metadata": {},
   "outputs": [
    {
     "data": {
      "text/plain": [
       "[1, 2, 3, 4, 5, 6, 7, 8, 9]"
      ]
     },
     "execution_count": 23,
     "metadata": {},
     "output_type": "execute_result"
    }
   ],
   "source": [
    "a=[9,7,8,6,5,4,3,1,2]\n",
    "a.sort()\n",
    "a"
   ]
  },
  {
   "cell_type": "code",
   "execution_count": null,
   "id": "2c761547",
   "metadata": {},
   "outputs": [
    {
     "data": {
      "text/plain": [
       "['apple', 'banana', 'cherry', 'dragonfruit', 'orange']"
      ]
     },
     "execution_count": 24,
     "metadata": {},
     "output_type": "execute_result"
    }
   ],
   "source": [
    "# ascending\n",
    "apha=['orange','banana','cherry','apple','dragonfruit']\n",
    "apha.sort()\n",
    "apha"
   ]
  },
  {
   "cell_type": "code",
   "execution_count": null,
   "id": "196b9f1f",
   "metadata": {},
   "outputs": [
    {
     "data": {
      "text/plain": [
       "['orange', 'dragonfruit', 'cherry', 'banana', 'apple']"
      ]
     },
     "execution_count": 25,
     "metadata": {},
     "output_type": "execute_result"
    }
   ],
   "source": [
    "# descending\n",
    "a=['apple', 'banana', 'cherry', 'dragonfruit', 'orange']\n",
    "a.sort(reverse = True)\n",
    "a"
   ]
  },
  {
   "cell_type": "code",
   "execution_count": 26,
   "id": "29b8d7dc",
   "metadata": {},
   "outputs": [
    {
     "data": {
      "text/plain": [
       "[8, 7, 6, 5, 4, 3, 2, 1]"
      ]
     },
     "execution_count": 26,
     "metadata": {},
     "output_type": "execute_result"
    }
   ],
   "source": [
    "a=[1,2,3,4,5,6,7,8]\n",
    "a.reverse()\n",
    "a"
   ]
  },
  {
   "cell_type": "code",
   "execution_count": 27,
   "id": "3c39d6fa",
   "metadata": {},
   "outputs": [
    {
     "name": "stdout",
     "output_type": "stream",
     "text": [
      "1952987606528\n",
      "1952973463744\n",
      "[1, 2, 3, 4, 5] [1, 2, 3, 4, 5]\n"
     ]
    }
   ],
   "source": [
    "# copy()\n",
    "a=[1,2,3,4,5]\n",
    "b=a.copy()\n",
    "print(id(a))\n",
    "print(id(b))\n",
    "print(a,b)"
   ]
  },
  {
   "cell_type": "code",
   "execution_count": 28,
   "id": "1109cde9",
   "metadata": {},
   "outputs": [
    {
     "data": {
      "text/plain": [
       "[1, 2, 3, 4, 5]"
      ]
     },
     "execution_count": 28,
     "metadata": {},
     "output_type": "execute_result"
    }
   ],
   "source": [
    "a=[1,2,3,4,5]\n",
    "b=a[:]\n",
    "b"
   ]
  },
  {
   "cell_type": "code",
   "execution_count": 30,
   "id": "75bba899",
   "metadata": {},
   "outputs": [
    {
     "name": "stdout",
     "output_type": "stream",
     "text": [
      "[1, 2, 3, 4, 5]\n"
     ]
    },
    {
     "data": {
      "text/plain": [
       "[1, 2, 3, 4, 5]"
      ]
     },
     "execution_count": 30,
     "metadata": {},
     "output_type": "execute_result"
    }
   ],
   "source": [
    "c=[1,2,3,4,5]\n",
    "a=list(c)\n",
    "b=c\n",
    "print(c)\n",
    "a"
   ]
  },
  {
   "cell_type": "code",
   "execution_count": 2,
   "id": "3df138a4",
   "metadata": {},
   "outputs": [
    {
     "name": "stdout",
     "output_type": "stream",
     "text": [
      "7\n"
     ]
    }
   ],
   "source": [
    "# list\n",
    "first_list=['ramesh','suresh','arul','madhana gopal','kumaravel','parthiban','dillibabu']\n",
    "print(len(first_list))"
   ]
  },
  {
   "cell_type": "code",
   "execution_count": 4,
   "id": "26cac082",
   "metadata": {},
   "outputs": [
    {
     "name": "stdout",
     "output_type": "stream",
     "text": [
      "1\n"
     ]
    }
   ],
   "source": [
    "first_list=['ramesh','suresh','arul','madhana gopal','kumaravel','parthiban','dillibabu']\n",
    "print(first_list.count('ramesh'))"
   ]
  },
  {
   "cell_type": "code",
   "execution_count": 6,
   "id": "0ac1e253",
   "metadata": {},
   "outputs": [
    {
     "name": "stdout",
     "output_type": "stream",
     "text": [
      "yes\n"
     ]
    }
   ],
   "source": [
    "first_list=['ramesh','suresh','arul','madhana gopal','kumaravel','parthiban','dillibabu']\n",
    "if 'ramesh' in first_list:\n",
    "    print('yes')\n",
    "else :\n",
    "    print('invalid')    "
   ]
  },
  {
   "cell_type": "code",
   "execution_count": 10,
   "id": "10d248b0",
   "metadata": {},
   "outputs": [
    {
     "name": "stdout",
     "output_type": "stream",
     "text": [
      "ramesh\n",
      "dillibabu\n",
      "['ramesh', 'suresh', 'arul', 'madhana gopal', 'kumaravel', 'parthiban', 'dillibabu']\n",
      "['ramesh', 'suresh', 'arul', 'madhana gopal', 'kumaravel', 'parthiban', 'dillibabu']\n",
      "['arul', 'madhana gopal']\n"
     ]
    }
   ],
   "source": [
    "# list access \n",
    "first_list=['ramesh','suresh','arul','madhana gopal','kumaravel','parthiban','dillibabu']\n",
    "print(first_list[0])\n",
    "print(first_list[-1])\n",
    "print(first_list[0:])\n",
    "print(first_list[0:])\n",
    "print(first_list[2:4])"
   ]
  },
  {
   "cell_type": "code",
   "execution_count": 11,
   "id": "998cd338",
   "metadata": {},
   "outputs": [
    {
     "name": "stdout",
     "output_type": "stream",
     "text": [
      "['ramesh', 'suresh', 'arul', 'madhana gopal']\n"
     ]
    }
   ],
   "source": [
    "# liast slicing\n",
    "print(first_list[0:4])\n"
   ]
  },
  {
   "cell_type": "code",
   "execution_count": 13,
   "id": "35f8081f",
   "metadata": {},
   "outputs": [
    {
     "name": "stdout",
     "output_type": "stream",
     "text": [
      "['Ramesh', 'Suresh', 'Arul', 'Madhanagopal', 'Kumaravel', 'Parthiban', 'Dillibabu']\n"
     ]
    }
   ],
   "source": [
    "# list update\n",
    "first_list=['ramesh','suresh','arul','madhana gopal','kumaravel','parthiban','dillibabu']\n",
    "first_list[0]='Ramesh'\n",
    "first_list[1:3]=['Suresh','Arul']\n",
    "first_list[3:]=['Madhanagopal','Kumaravel','Parthiban','Dillibabu']\n",
    "print(first_list)\n"
   ]
  },
  {
   "cell_type": "code",
   "execution_count": null,
   "id": "575b94b0",
   "metadata": {},
   "outputs": [
    {
     "name": "stdout",
     "output_type": "stream",
     "text": [
      "['banana', 'cherry', 'apple', 'pineapple', 'graphes']\n"
     ]
    }
   ],
   "source": [
    "# list append insert data form last\n",
    "sec_list=[]\n",
    "sec_list.append('banana')\n",
    "sec_list.append('cherry')\n",
    "sec_list.append('apple')\n",
    "sec_list.append('pineapple')\n",
    "sec_list.append('graphes')\n",
    "print(sec_list)"
   ]
  },
  {
   "cell_type": "code",
   "execution_count": 16,
   "id": "edf27174",
   "metadata": {},
   "outputs": [
    {
     "name": "stdout",
     "output_type": "stream",
     "text": [
      "['lemon', 'watermelon', 'banana', 'cherry', 'apple', 'pineapple', 'graphes']\n"
     ]
    }
   ],
   "source": [
    "# insert data from specific index value \n",
    "third_list=['banana', 'cherry', 'apple', 'pineapple', 'graphes']\n",
    "third_list.insert(0,'lemon')\n",
    "third_list.insert(1,'watermelon')\n",
    "print(third_list)"
   ]
  },
  {
   "cell_type": "code",
   "execution_count": 17,
   "id": "ec322d5b",
   "metadata": {},
   "outputs": [
    {
     "name": "stdout",
     "output_type": "stream",
     "text": [
      "[1, 2, 3, 4, 5, 6, 7, 8, 9, 10, 11]\n"
     ]
    }
   ],
   "source": [
    "# extend list from onlist to another list\n",
    "a=[1,2,3,4,5,6]\n",
    "b=[7,8,9,10,11]\n",
    "a.extend(b)\n",
    "print(a)"
   ]
  },
  {
   "cell_type": "markdown",
   "id": "c358972d",
   "metadata": {},
   "source": [
    "Remove form list items"
   ]
  },
  {
   "cell_type": "code",
   "execution_count": 19,
   "id": "008ac040",
   "metadata": {},
   "outputs": [
    {
     "name": "stdout",
     "output_type": "stream",
     "text": [
      "[]\n"
     ]
    }
   ],
   "source": [
    "a=['ramesh','suresh','arul','madhanagopal']\n",
    "# remove() used to remove specified valuse\n",
    "a.remove('ramesh')\n",
    "a.remove('suresh')\n",
    "a.remove('arul')\n",
    "a.remove('madhanagopal')\n",
    "print(a)"
   ]
  },
  {
   "cell_type": "code",
   "execution_count": 22,
   "id": "0a89a447",
   "metadata": {},
   "outputs": [
    {
     "name": "stdout",
     "output_type": "stream",
     "text": [
      "[2, 3, 4, 5, 6]\n"
     ]
    }
   ],
   "source": [
    "# pop(i) pop used to remove specific index to remove value\n",
    "a=[1,2,3,4,5,6,5]\n",
    "a.pop(0)\n",
    "a.pop(5)\n",
    "print(a)\n"
   ]
  },
  {
   "cell_type": "code",
   "execution_count": 23,
   "id": "9deca16e",
   "metadata": {},
   "outputs": [
    {
     "name": "stdout",
     "output_type": "stream",
     "text": [
      "[1, 2, 3]\n"
     ]
    }
   ],
   "source": [
    "s_list=[1,2,3,4,5]\n",
    "s_list.pop()\n",
    "s_list.pop()\n",
    "print(s_list)"
   ]
  },
  {
   "cell_type": "code",
   "execution_count": 24,
   "id": "955ea845",
   "metadata": {},
   "outputs": [
    {
     "name": "stdout",
     "output_type": "stream",
     "text": [
      "['apple', 'pineapple', 'graphes']\n"
     ]
    }
   ],
   "source": [
    "a_list=['banana', 'cherry', 'apple', 'pineapple', 'graphes']\n",
    "del a_list[0:2]\n",
    "print(a_list)"
   ]
  },
  {
   "cell_type": "code",
   "execution_count": null,
   "id": "6b1c7b39",
   "metadata": {},
   "outputs": [],
   "source": [
    "# delete entier list\n",
    "c=['banana', 'cherry', 'apple', 'pineapple', 'graphes']\n",
    "del c"
   ]
  },
  {
   "cell_type": "code",
   "execution_count": null,
   "id": "524792a0",
   "metadata": {},
   "outputs": [
    {
     "name": "stdout",
     "output_type": "stream",
     "text": [
      "[]\n"
     ]
    }
   ],
   "source": [
    "# remove all list items \n",
    "a=['banana', 'cherry', 'apple', 'pineapple', 'graphes']\n",
    "a.clear()\n",
    "print(a)"
   ]
  },
  {
   "cell_type": "code",
   "execution_count": 29,
   "id": "5225f74c",
   "metadata": {},
   "outputs": [
    {
     "name": "stdout",
     "output_type": "stream",
     "text": [
      "[9, 8, 7, 6, 5, 4, 3, 2, 1, 0]\n"
     ]
    }
   ],
   "source": [
    "a=[1,2,3,4,5,6,7,8,9,0]\n",
    "a.sort(reverse=True)\n",
    "print(a)"
   ]
  },
  {
   "cell_type": "code",
   "execution_count": 31,
   "id": "f090901a",
   "metadata": {},
   "outputs": [
    {
     "data": {
      "text/plain": [
       "[97, 77, 66, 55, 44, 33, 22, 6, 6]"
      ]
     },
     "execution_count": 31,
     "metadata": {},
     "output_type": "execute_result"
    }
   ],
   "source": [
    "a=[77,66,33,44,55,22,97,6,6]\n",
    "a.sort(reverse=True)\n",
    "a"
   ]
  },
  {
   "cell_type": "code",
   "execution_count": 32,
   "id": "f9386a2c",
   "metadata": {},
   "outputs": [
    {
     "name": "stdout",
     "output_type": "stream",
     "text": [
      "[6, 6, 97, 22, 55, 44, 33, 66, 77]\n"
     ]
    }
   ],
   "source": [
    "a=[77,66,33,44,55,22,97,6,6]\n",
    "a.reverse()\n",
    "print(a)"
   ]
  },
  {
   "cell_type": "code",
   "execution_count": null,
   "id": "e9754e5e",
   "metadata": {},
   "outputs": [
    {
     "name": "stdout",
     "output_type": "stream",
     "text": [
      "1688687864448\n",
      "1688688155328\n",
      "[77, 66, 33, 44, 55, 22, 97, 6, 6]\n",
      "[77, 66, 33, 44, 55, 22, 97, 6, 6]\n"
     ]
    }
   ],
   "source": [
    "# copy of list items main purpose stored data form different memory location\n",
    "a=[77,66,33,44,55,22,97,6,6]\n",
    "b=a.copy()\n",
    "print(id(a))\n",
    "print(id(b))\n",
    "print(a)\n",
    "print(b)"
   ]
  },
  {
   "cell_type": "code",
   "execution_count": 36,
   "id": "6d66188f",
   "metadata": {},
   "outputs": [
    {
     "name": "stdout",
     "output_type": "stream",
     "text": [
      "1688688125888\n",
      "1688688047040\n",
      "[77, 66, 33, 44, 55, 22, 97, 6, 6]\n",
      "[77, 66, 33, 44, 55, 22, 97, 6, 6]\n"
     ]
    }
   ],
   "source": [
    "a=[77,66,33,44,55,22,97,6,6]\n",
    "c=list(a)\n",
    "print(id(a))\n",
    "print(id(c))\n",
    "print(a)\n",
    "print(c)"
   ]
  },
  {
   "cell_type": "code",
   "execution_count": 37,
   "id": "bbfd64b4",
   "metadata": {},
   "outputs": [
    {
     "name": "stdout",
     "output_type": "stream",
     "text": [
      "1688688192832\n",
      "1688688034752\n",
      "[1, 2, 3, 4, 56] [1, 2, 3, 4, 56]\n"
     ]
    }
   ],
   "source": [
    "c=[1,2,3,4,56]\n",
    "a=c[:]\n",
    "print(id(a))\n",
    "print(id(c))\n",
    "print(a,c)"
   ]
  },
  {
   "cell_type": "code",
   "execution_count": 39,
   "id": "25552f35",
   "metadata": {},
   "outputs": [
    {
     "name": "stdout",
     "output_type": "stream",
     "text": [
      "[7, 8, 9, 0, 1, 2, 3, 4, 5, 6]\n"
     ]
    }
   ],
   "source": [
    "a=[1,2,3,4,5,6]\n",
    "b=[7,8,9,0]\n",
    "d=b+a\n",
    "print(d)"
   ]
  },
  {
   "cell_type": "code",
   "execution_count": null,
   "id": "faf2f72a",
   "metadata": {},
   "outputs": [],
   "source": []
  }
 ],
 "metadata": {
  "kernelspec": {
   "display_name": "base",
   "language": "python",
   "name": "python3"
  },
  "language_info": {
   "codemirror_mode": {
    "name": "ipython",
    "version": 3
   },
   "file_extension": ".py",
   "mimetype": "text/x-python",
   "name": "python",
   "nbconvert_exporter": "python",
   "pygments_lexer": "ipython3",
   "version": "3.12.7"
  }
 },
 "nbformat": 4,
 "nbformat_minor": 5
}
