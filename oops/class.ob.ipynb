{
 "cells": [
  {
   "cell_type": "code",
   "execution_count": 4,
   "id": "ca8cdc78",
   "metadata": {},
   "outputs": [
    {
     "name": "stdout",
     "output_type": "stream",
     "text": [
      "22\n",
      "44\n"
     ]
    }
   ],
   "source": [
    "class myclass:\n",
    "    x=22\n",
    "    b=44\n",
    "ob1=myclass()    \n",
    "print(ob1.x) \n",
    "print(ob1.b)   "
   ]
  },
  {
   "cell_type": "code",
   "execution_count": 6,
   "id": "8a758a7b",
   "metadata": {},
   "outputs": [
    {
     "name": "stdout",
     "output_type": "stream",
     "text": [
      "-22 11 33\n"
     ]
    }
   ],
   "source": [
    "class fclass:\n",
    "    a=11\n",
    "    b=33\n",
    "    c=a-b\n",
    "ob2=fclass()\n",
    "print(ob2.c,ob2.a,ob2.b)    "
   ]
  },
  {
   "cell_type": "code",
   "execution_count": 21,
   "id": "4c7d3ccd",
   "metadata": {},
   "outputs": [
    {
     "name": "stdout",
     "output_type": "stream",
     "text": [
      "hello ramesh\n",
      "10\n",
      "20\n",
      "30\n"
     ]
    }
   ],
   "source": [
    "class my:\n",
    "    a=10\n",
    "    b=20\n",
    "    def printhello(self):\n",
    "        print('hello ramesh')\n",
    "        print(self.a)\n",
    "        print(self.b)\n",
    "        print(self.a+self.b)\n",
    "xyz=my()        \n",
    "xyz.printhello()        \n",
    "   \n",
    "      "
   ]
  },
  {
   "cell_type": "code",
   "execution_count": null,
   "id": "da472422",
   "metadata": {},
   "outputs": [
    {
     "name": "stdout",
     "output_type": "stream",
     "text": [
      "200 ===== 300\n",
      "400 ==== 600\n",
      "20 3\n"
     ]
    }
   ],
   "source": [
    "# constructors\n",
    "class cons:\n",
    "    def __init__(self , value1=20,value2=3):\n",
    "        self.x=value1\n",
    "        self.y=value2\n",
    "obj=cons()\n",
    "abc=cons(200,400)\n",
    "xyz=cons(300,600)\n",
    "print(abc.x,'=====',xyz.x)\n",
    "print(abc.y,'====',xyz.y)\n",
    "print(obj.x,obj.y)        "
   ]
  },
  {
   "cell_type": "code",
   "execution_count": 5,
   "id": "c20db6fa",
   "metadata": {},
   "outputs": [
    {
     "name": "stdout",
     "output_type": "stream",
     "text": [
      "22\n",
      "33\n",
      "55\n"
     ]
    }
   ],
   "source": [
    "# class\n",
    "class draf:\n",
    "    a=22\n",
    "    b=33\n",
    "    c=a+b\n",
    "a=draf()\n",
    "print(a.a)\n",
    "print(a.b)  \n",
    "print(a.c) "
   ]
  },
  {
   "cell_type": "code",
   "execution_count": 9,
   "id": "ae3b18d7",
   "metadata": {},
   "outputs": [
    {
     "name": "stdout",
     "output_type": "stream",
     "text": [
      "calculator\n",
      "66\n"
     ]
    }
   ],
   "source": [
    "# class function\n",
    "class fun:\n",
    "    a=22\n",
    "    b=44\n",
    "    def cal(self):\n",
    "        print('calculator')\n",
    "        print(self.a+self.b)\n",
    "c=fun()\n",
    "c.cal()       "
   ]
  },
  {
   "cell_type": "code",
   "execution_count": 11,
   "id": "9c1066ef",
   "metadata": {},
   "outputs": [
    {
     "name": "stdout",
     "output_type": "stream",
     "text": [
      "0 0\n",
      "200 300\n",
      "400 500\n"
     ]
    }
   ],
   "source": [
    "class fun:\n",
    "    def __init__(self, value1=0,value2=0):\n",
    "        self.v1=value1\n",
    "        self.v2=value2\n",
    "obj=fun()\n",
    "obj1=fun(200,300)\n",
    "obj2=fun(400,500)\n",
    "print(obj.v1 ,obj.v2)\n",
    "print(obj1.v1,obj1.v2)\n",
    "print(obj2.v1,obj2.v2)  "
   ]
  },
  {
   "cell_type": "code",
   "execution_count": null,
   "id": "a77251b7",
   "metadata": {},
   "outputs": [],
   "source": []
  }
 ],
 "metadata": {
  "kernelspec": {
   "display_name": "base",
   "language": "python",
   "name": "python3"
  },
  "language_info": {
   "codemirror_mode": {
    "name": "ipython",
    "version": 3
   },
   "file_extension": ".py",
   "mimetype": "text/x-python",
   "name": "python",
   "nbconvert_exporter": "python",
   "pygments_lexer": "ipython3",
   "version": "3.12.7"
  }
 },
 "nbformat": 4,
 "nbformat_minor": 5
}
