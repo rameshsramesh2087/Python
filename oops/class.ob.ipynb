{
 "cells": [
  {
   "cell_type": "code",
   "execution_count": 4,
   "id": "ca8cdc78",
   "metadata": {},
   "outputs": [
    {
     "name": "stdout",
     "output_type": "stream",
     "text": [
      "22\n",
      "44\n"
     ]
    }
   ],
   "source": [
    "class myclass:\n",
    "    x=22\n",
    "    b=44\n",
    "ob1=myclass()    \n",
    "print(ob1.x) \n",
    "print(ob1.b)   "
   ]
  },
  {
   "cell_type": "code",
   "execution_count": 6,
   "id": "8a758a7b",
   "metadata": {},
   "outputs": [
    {
     "name": "stdout",
     "output_type": "stream",
     "text": [
      "-22 11 33\n"
     ]
    }
   ],
   "source": [
    "class fclass:\n",
    "    a=11\n",
    "    b=33\n",
    "    c=a-b\n",
    "ob2=fclass()\n",
    "print(ob2.c,ob2.a,ob2.b)    "
   ]
  },
  {
   "cell_type": "code",
   "execution_count": 21,
   "id": "4c7d3ccd",
   "metadata": {},
   "outputs": [
    {
     "name": "stdout",
     "output_type": "stream",
     "text": [
      "hello ramesh\n",
      "10\n",
      "20\n",
      "30\n"
     ]
    }
   ],
   "source": [
    "class my:\n",
    "    a=10\n",
    "    b=20\n",
    "    def printhello(self):\n",
    "        print('hello ramesh')\n",
    "        print(self.a)\n",
    "        print(self.b)\n",
    "        print(self.a+self.b)\n",
    "xyz=my()        \n",
    "xyz.printhello()        \n",
    "   \n",
    "      "
   ]
  },
  {
   "cell_type": "code",
   "execution_count": null,
   "id": "da472422",
   "metadata": {},
   "outputs": [],
   "source": []
  }
 ],
 "metadata": {
  "kernelspec": {
   "display_name": "base",
   "language": "python",
   "name": "python3"
  },
  "language_info": {
   "codemirror_mode": {
    "name": "ipython",
    "version": 3
   },
   "file_extension": ".py",
   "mimetype": "text/x-python",
   "name": "python",
   "nbconvert_exporter": "python",
   "pygments_lexer": "ipython3",
   "version": "3.12.7"
  }
 },
 "nbformat": 4,
 "nbformat_minor": 5
}
