{
 "cells": [
  {
   "cell_type": "code",
   "execution_count": 1,
   "id": "e52336b5",
   "metadata": {},
   "outputs": [
    {
     "name": "stdout",
     "output_type": "stream",
     "text": [
      "20\n",
      "25\n"
     ]
    }
   ],
   "source": [
    "class gemoetory():\n",
    "    def calculatearea(self,length=0):\n",
    "        print(length*length) \n",
    "class square(gemoetory):\n",
    "    pass\n",
    "class Rectangle(gemoetory):\n",
    "    def calculatearea(self,length=0,breath=0):\n",
    "        print(length*breath)\n",
    "c1=square()\n",
    "c2=Rectangle()\n",
    "c2.calculatearea(4,5)\n",
    "c1.calculatearea(5)"
   ]
  },
  {
   "cell_type": "code",
   "execution_count": null,
   "id": "e15f473c",
   "metadata": {},
   "outputs": [],
   "source": []
  }
 ],
 "metadata": {
  "kernelspec": {
   "display_name": "base",
   "language": "python",
   "name": "python3"
  },
  "language_info": {
   "codemirror_mode": {
    "name": "ipython",
    "version": 3
   },
   "file_extension": ".py",
   "mimetype": "text/x-python",
   "name": "python",
   "nbconvert_exporter": "python",
   "pygments_lexer": "ipython3",
   "version": "3.12.7"
  }
 },
 "nbformat": 4,
 "nbformat_minor": 5
}
