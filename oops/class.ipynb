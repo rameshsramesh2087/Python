{
 "cells": [
  {
   "cell_type": "code",
   "execution_count": 1,
   "id": "7233b4e7",
   "metadata": {},
   "outputs": [
    {
     "name": "stdout",
     "output_type": "stream",
     "text": [
      "55\n"
     ]
    }
   ],
   "source": [
    "class myclass:\n",
    "    a=22\n",
    "    b=33\n",
    "obj=myclass()\n",
    "print(obj.a + obj.b)    "
   ]
  },
  {
   "cell_type": "code",
   "execution_count": 5,
   "id": "b65acb70",
   "metadata": {},
   "outputs": [
    {
     "name": "stdout",
     "output_type": "stream",
     "text": [
      "i am a developer\n",
      "i am a developer\n"
     ]
    }
   ],
   "source": [
    "class cls1:\n",
    "    def printf(self):\n",
    "        print('i am a developer')\n",
    "ob=cls1()\n",
    "ob1=cls1()\n",
    "ob1.printf()\n",
    "ob.printf()        "
   ]
  },
  {
   "cell_type": "code",
   "execution_count": 6,
   "id": "f8d3bb9e",
   "metadata": {},
   "outputs": [
    {
     "name": "stdout",
     "output_type": "stream",
     "text": [
      "22 22\n",
      "33 33\n"
     ]
    }
   ],
   "source": [
    "class mylass:\n",
    "    a=22\n",
    "    b=33\n",
    "    def my1(self):\n",
    "        print('developer')\n",
    "bbc=mylass()\n",
    "aac=mylass()\n",
    "print(bbc.a,aac.a)\n",
    "print(bbc.b,aac.b)"
   ]
  },
  {
   "cell_type": "code",
   "execution_count": 14,
   "id": "50266044",
   "metadata": {},
   "outputs": [
    {
     "name": "stdout",
     "output_type": "stream",
     "text": [
      "0 0\n",
      "3 3\n",
      "200 300\n"
     ]
    }
   ],
   "source": [
    "class my:\n",
    "    \n",
    "    def __init__(self,val1=0,val2=0):\n",
    "        self.x=val1\n",
    "        self.y=val2\n",
    "        \n",
    "abc=my(200,300)\n",
    "bcc=my(3,3)\n",
    "cc=my()\n",
    "print(cc.x,cc.y)\n",
    "print(bcc.x,bcc.y)\n",
    "print(abc.x,abc.y)\n"
   ]
  },
  {
   "cell_type": "code",
   "execution_count": null,
   "id": "8864792d",
   "metadata": {},
   "outputs": [],
   "source": []
  }
 ],
 "metadata": {
  "kernelspec": {
   "display_name": "base",
   "language": "python",
   "name": "python3"
  },
  "language_info": {
   "codemirror_mode": {
    "name": "ipython",
    "version": 3
   },
   "file_extension": ".py",
   "mimetype": "text/x-python",
   "name": "python",
   "nbconvert_exporter": "python",
   "pygments_lexer": "ipython3",
   "version": "3.12.7"
  }
 },
 "nbformat": 4,
 "nbformat_minor": 5
}
