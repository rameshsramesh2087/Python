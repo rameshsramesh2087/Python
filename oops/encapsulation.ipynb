{
 "cells": [
  {
   "cell_type": "code",
   "execution_count": 3,
   "id": "234d0af5",
   "metadata": {},
   "outputs": [
    {
     "name": "stdout",
     "output_type": "stream",
     "text": [
      "1000\n"
     ]
    }
   ],
   "source": [
    "class Bank:\n",
    "    __balance = 1000\n",
    "\n",
    "    def __getBalance(self):\n",
    "        print(self.__balance)\n",
    "\n",
    "    def hello(self):\n",
    "        self.__getBalance()\n",
    "\n",
    "account_holder = Bank()\n",
    "account_holder.hello()"
   ]
  },
  {
   "cell_type": "code",
   "execution_count": 12,
   "id": "fba058a3",
   "metadata": {},
   "outputs": [
    {
     "name": "stdout",
     "output_type": "stream",
     "text": [
      "500\n"
     ]
    }
   ],
   "source": [
    "class student:\n",
    "    _student=500\n",
    "    def getmark(self):\n",
    "        print(self._student)\n",
    "class s1(student):\n",
    "   pass      \n",
    "c1=s1()\n",
    "print(c1._student)\n"
   ]
  },
  {
   "cell_type": "code",
   "execution_count": null,
   "id": "ae80e16a",
   "metadata": {},
   "outputs": [],
   "source": []
  }
 ],
 "metadata": {
  "kernelspec": {
   "display_name": "base",
   "language": "python",
   "name": "python3"
  },
  "language_info": {
   "codemirror_mode": {
    "name": "ipython",
    "version": 3
   },
   "file_extension": ".py",
   "mimetype": "text/x-python",
   "name": "python",
   "nbconvert_exporter": "python",
   "pygments_lexer": "ipython3",
   "version": "3.12.7"
  }
 },
 "nbformat": 4,
 "nbformat_minor": 5
}
