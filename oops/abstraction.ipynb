{
 "cells": [
  {
   "cell_type": "code",
   "execution_count": 6,
   "id": "a3708875",
   "metadata": {},
   "outputs": [
    {
     "name": "stdout",
     "output_type": "stream",
     "text": [
      "on your mobile\n",
      "take a picture\n",
      "listenning music\n",
      "off your mobile\n"
     ]
    }
   ],
   "source": [
    "from abc import ABC,abstractmethod\n",
    "class mobile(ABC):\n",
    "    @abstractmethod\n",
    "    def on(self):\n",
    "        pass\n",
    "    @abstractmethod\n",
    "    def off(self):\n",
    "        pass\n",
    "    def cam(self):\n",
    "        pass\n",
    "    def music(self):\n",
    "        pass\n",
    "class iphone(mobile):\n",
    "    def on(self):\n",
    "        print('on your mobile')\n",
    "    def cam(self):\n",
    "        print('take a picture')\n",
    "    def music(self):\n",
    "        print('listenning music')\n",
    "    def off(self):\n",
    "        print('off your mobile')    \n",
    "mob=iphone()\n",
    "mob.on()\n",
    "mob.cam()\n",
    "mob.music()  \n",
    "mob.off()\n",
    "\n"
   ]
  },
  {
   "cell_type": "code",
   "execution_count": null,
   "id": "eeb9ecba",
   "metadata": {},
   "outputs": [],
   "source": []
  }
 ],
 "metadata": {
  "kernelspec": {
   "display_name": "base",
   "language": "python",
   "name": "python3"
  },
  "language_info": {
   "codemirror_mode": {
    "name": "ipython",
    "version": 3
   },
   "file_extension": ".py",
   "mimetype": "text/x-python",
   "name": "python",
   "nbconvert_exporter": "python",
   "pygments_lexer": "ipython3",
   "version": "3.12.7"
  }
 },
 "nbformat": 4,
 "nbformat_minor": 5
}
