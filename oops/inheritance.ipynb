{
 "cells": [
  {
   "cell_type": "code",
   "execution_count": 1,
   "id": "90ef62aa",
   "metadata": {},
   "outputs": [
    {
     "name": "stdout",
     "output_type": "stream",
     "text": [
      "have a two acres of land\n",
      "200 gram of gold\n",
      "ferrai car\n"
     ]
    }
   ],
   "source": [
    "class  grandfather():\n",
    "    def land(self):\n",
    "        print('have a two acres of land')\n",
    "class father(grandfather):\n",
    "    def gold(self):\n",
    "        print('200 gram of gold')\n",
    "class son(father):\n",
    "    def ferrari(self):\n",
    "        print('ferrai car')\n",
    "cls1=son()\n",
    "cls1.land()\n",
    "cls1.gold()\n",
    "cls1.ferrari()"
   ]
  },
  {
   "cell_type": "code",
   "execution_count": null,
   "id": "d9ff7e44",
   "metadata": {},
   "outputs": [
    {
     "name": "stdout",
     "output_type": "stream",
     "text": [
      "20\n",
      "25\n"
     ]
    }
   ],
   "source": []
  },
  {
   "cell_type": "code",
   "execution_count": null,
   "id": "b4b0d819",
   "metadata": {},
   "outputs": [],
   "source": []
  }
 ],
 "metadata": {
  "kernelspec": {
   "display_name": "base",
   "language": "python",
   "name": "python3"
  },
  "language_info": {
   "codemirror_mode": {
    "name": "ipython",
    "version": 3
   },
   "file_extension": ".py",
   "mimetype": "text/x-python",
   "name": "python",
   "nbconvert_exporter": "python",
   "pygments_lexer": "ipython3",
   "version": "3.12.7"
  }
 },
 "nbformat": 4,
 "nbformat_minor": 5
}
