{
 "cells": [
  {
   "cell_type": "code",
   "execution_count": 5,
   "id": "90ef62aa",
   "metadata": {},
   "outputs": [
    {
     "name": "stdout",
     "output_type": "stream",
     "text": [
      "have a two acres of land\n",
      "200 gram of gold\n"
     ]
    },
    {
     "ename": "AttributeError",
     "evalue": "'father' object has no attribute 'ferrari'",
     "output_type": "error",
     "traceback": [
      "\u001b[1;31m---------------------------------------------------------------------------\u001b[0m",
      "\u001b[1;31mAttributeError\u001b[0m                            Traceback (most recent call last)",
      "Cell \u001b[1;32mIn[5], line 13\u001b[0m\n\u001b[0;32m     11\u001b[0m cls1\u001b[38;5;241m.\u001b[39mland()\n\u001b[0;32m     12\u001b[0m cls1\u001b[38;5;241m.\u001b[39mgold()\n\u001b[1;32m---> 13\u001b[0m cls1\u001b[38;5;241m.\u001b[39mferrari()\n",
      "\u001b[1;31mAttributeError\u001b[0m: 'father' object has no attribute 'ferrari'"
     ]
    }
   ],
   "source": [
    "class  grandfather():\n",
    "    def land(self):\n",
    "        print('have a two acres of land')\n",
    "class father(grandfather):\n",
    "    def gold(self):\n",
    "        print('200 gram of gold')\n",
    "class son(father):\n",
    "    def ferrari(self):\n",
    "        print('ferrai car')\n",
    "cls1=father()\n",
    "cls1.land()\n",
    "cls1.gold()\n",
    "cls1.ferrari()"
   ]
  },
  {
   "cell_type": "code",
   "execution_count": null,
   "id": "d9ff7e44",
   "metadata": {},
   "outputs": [],
   "source": []
  }
 ],
 "metadata": {
  "kernelspec": {
   "display_name": "base",
   "language": "python",
   "name": "python3"
  },
  "language_info": {
   "codemirror_mode": {
    "name": "ipython",
    "version": 3
   },
   "file_extension": ".py",
   "mimetype": "text/x-python",
   "name": "python",
   "nbconvert_exporter": "python",
   "pygments_lexer": "ipython3",
   "version": "3.12.7"
  }
 },
 "nbformat": 4,
 "nbformat_minor": 5
}
