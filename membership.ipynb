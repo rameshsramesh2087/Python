{
 "cells": [
  {
   "cell_type": "markdown",
   "id": "4f3afa5c",
   "metadata": {},
   "source": [
    "membership operator\n",
    "\n",
    "are used to test . if sequence is present in an object.\n"
   ]
  },
  {
   "cell_type": "code",
   "execution_count": 3,
   "id": "2aabdf8d",
   "metadata": {},
   "outputs": [
    {
     "name": "stdout",
     "output_type": "stream",
     "text": [
      "True\n",
      "True\n",
      "False\n",
      "True\n"
     ]
    }
   ],
   "source": [
    "a=['orange','banana','cherry','apple',1]\n",
    "print('orange'in a)\n",
    "print('cherry'in a)\n",
    "print('banana' not in a)\n",
    "print(True in a)"
   ]
  },
  {
   "cell_type": "code",
   "execution_count": null,
   "id": "d895450f",
   "metadata": {},
   "outputs": [],
   "source": []
  }
 ],
 "metadata": {
  "kernelspec": {
   "display_name": "base",
   "language": "python",
   "name": "python3"
  },
  "language_info": {
   "codemirror_mode": {
    "name": "ipython",
    "version": 3
   },
   "file_extension": ".py",
   "mimetype": "text/x-python",
   "name": "python",
   "nbconvert_exporter": "python",
   "pygments_lexer": "ipython3",
   "version": "3.12.7"
  }
 },
 "nbformat": 4,
 "nbformat_minor": 5
}
