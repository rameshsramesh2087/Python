{
 "cells": [
  {
   "cell_type": "markdown",
   "id": "00c3e5ce",
   "metadata": {},
   "source": [
    "Logical operators\n",
    "\n",
    "are used to combine two operations and return values trueare false"
   ]
  },
  {
   "cell_type": "code",
   "execution_count": 1,
   "id": "bbd588ea",
   "metadata": {},
   "outputs": [
    {
     "name": "stdout",
     "output_type": "stream",
     "text": [
      "True\n",
      "False\n",
      "False\n",
      "False\n"
     ]
    }
   ],
   "source": [
    "print(True and True)\n",
    "print(False and False)\n",
    "print(False and False)\n",
    "print(True and False)"
   ]
  },
  {
   "cell_type": "code",
   "execution_count": 2,
   "id": "b7ae2bc6",
   "metadata": {},
   "outputs": [
    {
     "name": "stdout",
     "output_type": "stream",
     "text": [
      "True\n"
     ]
    }
   ],
   "source": [
    "print(1>0 and 33<100)"
   ]
  },
  {
   "cell_type": "code",
   "execution_count": 3,
   "id": "154dc9aa",
   "metadata": {},
   "outputs": [
    {
     "name": "stdout",
     "output_type": "stream",
     "text": [
      "True\n"
     ]
    }
   ],
   "source": [
    "print(2!=0 and 22>=20)"
   ]
  },
  {
   "cell_type": "code",
   "execution_count": 6,
   "id": "bda304c0",
   "metadata": {},
   "outputs": [
    {
     "name": "stdout",
     "output_type": "stream",
     "text": [
      "True\n"
     ]
    }
   ],
   "source": [
    "print(33<=100 and 50>=30)"
   ]
  },
  {
   "cell_type": "code",
   "execution_count": 7,
   "id": "529713be",
   "metadata": {},
   "outputs": [
    {
     "name": "stdout",
     "output_type": "stream",
     "text": [
      "1\n",
      "0\n",
      "1\n",
      "1\n"
     ]
    }
   ],
   "source": [
    "print(1 or 1)\n",
    "print(0 or 0)\n",
    "print(0 or 1)\n",
    "print(1 or 1)"
   ]
  },
  {
   "cell_type": "code",
   "execution_count": 8,
   "id": "30383e48",
   "metadata": {},
   "outputs": [
    {
     "name": "stdout",
     "output_type": "stream",
     "text": [
      "True\n"
     ]
    }
   ],
   "source": [
    "print(2!=2 or 3==3)"
   ]
  },
  {
   "cell_type": "code",
   "execution_count": 9,
   "id": "fabaa1d5",
   "metadata": {},
   "outputs": [
    {
     "name": "stdout",
     "output_type": "stream",
     "text": [
      "True\n"
     ]
    }
   ],
   "source": [
    "print(not(22==2 and 22!=22 ))"
   ]
  },
  {
   "cell_type": "code",
   "execution_count": null,
   "id": "2032d204",
   "metadata": {},
   "outputs": [],
   "source": []
  }
 ],
 "metadata": {
  "kernelspec": {
   "display_name": "base",
   "language": "python",
   "name": "python3"
  },
  "language_info": {
   "codemirror_mode": {
    "name": "ipython",
    "version": 3
   },
   "file_extension": ".py",
   "mimetype": "text/x-python",
   "name": "python",
   "nbconvert_exporter": "python",
   "pygments_lexer": "ipython3",
   "version": "3.12.7"
  }
 },
 "nbformat": 4,
 "nbformat_minor": 5
}
