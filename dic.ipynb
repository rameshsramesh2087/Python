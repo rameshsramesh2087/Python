{
 "cells": [
  {
   "cell_type": "markdown",
   "id": "dd5b1c64",
   "metadata": {},
   "source": [
    "dictionary"
   ]
  },
  {
   "cell_type": "code",
   "execution_count": 1,
   "id": "3c3dcbc2",
   "metadata": {},
   "outputs": [
    {
     "name": "stdout",
     "output_type": "stream",
     "text": [
      "{'name': 'ramesh', 'age': 20, 'location': 'ranipet'} <class 'dict'>\n",
      "3\n"
     ]
    }
   ],
   "source": [
    "dic1={'name':'ramesh','age':20,'location':'ranipet'}\n",
    "print(dic1,type(dic1))\n",
    "print(len(dic1))"
   ]
  },
  {
   "cell_type": "code",
   "execution_count": 4,
   "id": "98862cc4",
   "metadata": {},
   "outputs": [
    {
     "name": "stdout",
     "output_type": "stream",
     "text": [
      "20\n",
      "ranipet\n",
      "ramesh\n"
     ]
    }
   ],
   "source": [
    "dic2={'name':'ramesh','age':20,'location':'ranipet'}\n",
    "# access dictionary items used to keys\n",
    "a=dic2['name']\n",
    "print(dic2['age'])\n",
    "print(dic2['location'])\n",
    "print(a)"
   ]
  },
  {
   "cell_type": "code",
   "execution_count": null,
   "id": "69e9dd58",
   "metadata": {},
   "outputs": [
    {
     "name": "stdout",
     "output_type": "stream",
     "text": [
      "ramesh\n"
     ]
    }
   ],
   "source": [
    "print(dic2.get('name'))\n",
    "print(dic2.get('location'))\n"
   ]
  },
  {
   "cell_type": "code",
   "execution_count": 7,
   "id": "31f78b53",
   "metadata": {},
   "outputs": [
    {
     "name": "stdout",
     "output_type": "stream",
     "text": [
      "dict_keys(['name', 'age', 'location'])\n",
      "dict_values(['ramesh', 20, 'ranipet'])\n",
      "dict_items([('name', 'ramesh'), ('age', 20), ('location', 'ranipet')])\n"
     ]
    }
   ],
   "source": [
    "dic2={'name':'ramesh','age':20,'location':'ranipet'}\n",
    "print(dic2.keys())\n",
    "print(dic2.values())\n",
    "print(dic2.items())"
   ]
  },
  {
   "cell_type": "code",
   "execution_count": null,
   "id": "958b540b",
   "metadata": {},
   "outputs": [],
   "source": []
  }
 ],
 "metadata": {
  "kernelspec": {
   "display_name": "base",
   "language": "python",
   "name": "python3"
  },
  "language_info": {
   "codemirror_mode": {
    "name": "ipython",
    "version": 3
   },
   "file_extension": ".py",
   "mimetype": "text/x-python",
   "name": "python",
   "nbconvert_exporter": "python",
   "pygments_lexer": "ipython3",
   "version": "3.12.7"
  }
 },
 "nbformat": 4,
 "nbformat_minor": 5
}
