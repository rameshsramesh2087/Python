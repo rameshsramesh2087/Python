{
 "cells": [
  {
   "cell_type": "markdown",
   "id": "dd5b1c64",
   "metadata": {},
   "source": [
    "dictionary"
   ]
  },
  {
   "cell_type": "code",
   "execution_count": 1,
   "id": "3c3dcbc2",
   "metadata": {},
   "outputs": [
    {
     "name": "stdout",
     "output_type": "stream",
     "text": [
      "{'name': 'ramesh', 'age': 20, 'location': 'ranipet'} <class 'dict'>\n",
      "3\n"
     ]
    }
   ],
   "source": [
    "dic1={'name':'ramesh','age':20,'location':'ranipet'}\n",
    "print(dic1,type(dic1))\n",
    "print(len(dic1))"
   ]
  },
  {
   "cell_type": "code",
   "execution_count": 4,
   "id": "98862cc4",
   "metadata": {},
   "outputs": [
    {
     "name": "stdout",
     "output_type": "stream",
     "text": [
      "20\n",
      "ranipet\n",
      "ramesh\n"
     ]
    }
   ],
   "source": [
    "dic2={'name':'ramesh','age':20,'location':'ranipet'}\n",
    "# access dictionary items used to keys\n",
    "a=dic2['name']\n",
    "print(dic2['age'])\n",
    "print(dic2['location'])\n",
    "print(a)"
   ]
  },
  {
   "cell_type": "code",
   "execution_count": null,
   "id": "69e9dd58",
   "metadata": {},
   "outputs": [
    {
     "name": "stdout",
     "output_type": "stream",
     "text": [
      "ramesh\n"
     ]
    }
   ],
   "source": [
    "print(dic2.get('name'))\n",
    "print(dic2.get('location'))\n"
   ]
  },
  {
   "cell_type": "code",
   "execution_count": 7,
   "id": "31f78b53",
   "metadata": {},
   "outputs": [
    {
     "name": "stdout",
     "output_type": "stream",
     "text": [
      "dict_keys(['name', 'age', 'location'])\n",
      "dict_values(['ramesh', 20, 'ranipet'])\n",
      "dict_items([('name', 'ramesh'), ('age', 20), ('location', 'ranipet')])\n"
     ]
    }
   ],
   "source": [
    "dic2={'name':'ramesh','age':20,'location':'ranipet'}\n",
    "print(dic2.keys())\n",
    "print(dic2.values())\n",
    "print(dic2.items())"
   ]
  },
  {
   "cell_type": "code",
   "execution_count": 8,
   "id": "958b540b",
   "metadata": {},
   "outputs": [
    {
     "name": "stdout",
     "output_type": "stream",
     "text": [
      "{'name': 'ramesh', 'age': 20, 'location': 'ranipet', 'occupation': 'student'}\n"
     ]
    }
   ],
   "source": [
    "dic2={'name':'ramesh','age':20,'location':'ranipet'}\n",
    "dic2['occupation']='student'\n",
    "print(dic2)"
   ]
  },
  {
   "cell_type": "code",
   "execution_count": 10,
   "id": "afa96312",
   "metadata": {},
   "outputs": [
    {
     "name": "stdout",
     "output_type": "stream",
     "text": [
      "{'name': 'ramesh', 'age': 20, 'location': 'ranipet', 'ocupation': 'student', 'dept': 'bca'}\n"
     ]
    }
   ],
   "source": [
    "dic2={'name':'ramesh','age':20,'location':'ranipet'}\n",
    "dic2.update(\n",
    "    {\n",
    "        'ocupation':'student',\n",
    "        'dept':'bca'\n",
    "    }\n",
    ")\n",
    "print(dic2)"
   ]
  },
  {
   "cell_type": "code",
   "execution_count": 13,
   "id": "6441b203",
   "metadata": {},
   "outputs": [
    {
     "name": "stdout",
     "output_type": "stream",
     "text": [
      "{'name': 'ramesh', 'age': 20, 'location': 'ranipet'}\n"
     ]
    }
   ],
   "source": [
    "dic3={'name': 'ramesh', 'age': 20, 'location': 'ranipet', 'occupation': 'student', 'dept': 'bca'}\n",
    "dic3.pop('dept')\n",
    "dic3.pop('occupation')\n",
    "print(dic3)"
   ]
  },
  {
   "cell_type": "code",
   "execution_count": 1,
   "id": "2f62d5c3",
   "metadata": {},
   "outputs": [
    {
     "data": {
      "text/plain": [
       "{'name': 'ramesh', 'age': 20}"
      ]
     },
     "execution_count": 1,
     "metadata": {},
     "output_type": "execute_result"
    }
   ],
   "source": [
    "dic4={'name': 'ramesh', 'age': 20, 'location': 'ranipet', 'ocupation': 'student', 'dept': 'bca'}\n",
    "dic4.popitem()\n",
    "dic4.popitem()\n",
    "dic4.popitem()\n",
    "dic4"
   ]
  },
  {
   "cell_type": "code",
   "execution_count": 1,
   "id": "3456ee3f",
   "metadata": {},
   "outputs": [
    {
     "name": "stdout",
     "output_type": "stream",
     "text": [
      "<class 'dict'> {'name': 'ramesh', 'age': 20, 'location': 'ranipet'} 3\n"
     ]
    }
   ],
   "source": [
    "a={'name':'ramesh','age':20,'location':'ranipet'}\n",
    "print(type(a),a,len(a))"
   ]
  },
  {
   "cell_type": "code",
   "execution_count": 7,
   "id": "32b23884",
   "metadata": {},
   "outputs": [
    {
     "name": "stdout",
     "output_type": "stream",
     "text": [
      "ramesh\n",
      "20\n",
      "dict_keys(['name', 'age', 'location'])\n",
      "dict_values(['ramesh', 20, 'ranipet'])\n",
      "dict_items([('name', 'ramesh'), ('age', 20), ('location', 'ranipet')])\n",
      "ramesh\n"
     ]
    }
   ],
   "source": [
    "c={'name':'ramesh','age':20,'location':'ranipet'}\n",
    "print(c['name'])\n",
    "print(c['age'])\n",
    "print(a.keys())\n",
    "print(a.values())\n",
    "print(a.items())\n",
    "print(a.get('name'))\n"
   ]
  },
  {
   "cell_type": "code",
   "execution_count": 8,
   "id": "f44f0893",
   "metadata": {},
   "outputs": [
    {
     "name": "stdout",
     "output_type": "stream",
     "text": [
      "{'name': 'ram', 'age': 20, 'location': 'ranipet', 'occupation': 'student'}\n"
     ]
    }
   ],
   "source": [
    "a={'name':'ramesh','age':20,'location':'ranipet'}\n",
    "a['name']='ram'\n",
    "a['occupation']='student'\n",
    "print(a)"
   ]
  },
  {
   "cell_type": "code",
   "execution_count": 11,
   "id": "94ebbf0c",
   "metadata": {},
   "outputs": [
    {
     "name": "stdout",
     "output_type": "stream",
     "text": [
      "{'name': 'ram', 'age': 20, 'location': 'ranipet', 'occupation': 'student', 'fruites': 'banana', 'food': 'biriyani'}\n",
      "6\n"
     ]
    }
   ],
   "source": [
    "a.update({\n",
    "    'fruites':'banana',\n",
    "    'food':'biriyani'\n",
    "})\n",
    "print(a)\n",
    "print(len(a))"
   ]
  },
  {
   "cell_type": "code",
   "execution_count": 18,
   "id": "8eff0ccd",
   "metadata": {},
   "outputs": [
    {
     "data": {
      "text/plain": [
       "{}"
      ]
     },
     "execution_count": 18,
     "metadata": {},
     "output_type": "execute_result"
    }
   ],
   "source": [
    "a={'name': 'ram', 'age': 20, 'location': 'ranipet', 'occupation': 'student', 'fruites': 'banana', 'food': 'biriyani'}\n",
    "a.pop('name')\n",
    "a.popitem()\n",
    "a.clear()\n",
    "a"
   ]
  },
  {
   "cell_type": "code",
   "execution_count": null,
   "id": "eb187a33",
   "metadata": {},
   "outputs": [],
   "source": [
    "a=dict(a)\n",
    "c=a.copy()\n"
   ]
  }
 ],
 "metadata": {
  "kernelspec": {
   "display_name": "base",
   "language": "python",
   "name": "python3"
  },
  "language_info": {
   "codemirror_mode": {
    "name": "ipython",
    "version": 3
   },
   "file_extension": ".py",
   "mimetype": "text/x-python",
   "name": "python",
   "nbconvert_exporter": "python",
   "pygments_lexer": "ipython3",
   "version": "3.12.7"
  }
 },
 "nbformat": 4,
 "nbformat_minor": 5
}
