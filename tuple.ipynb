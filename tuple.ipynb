{
 "cells": [
  {
   "cell_type": "code",
   "execution_count": 2,
   "id": "87affbfa",
   "metadata": {},
   "outputs": [
    {
     "name": "stdout",
     "output_type": "stream",
     "text": [
      "2\n",
      "1\n",
      "2\n"
     ]
    }
   ],
   "source": [
    "# tuple\n",
    "t1=(1,2,3,4,5,6,7,2,7,6,8,9,6,2,3,5,8)\n",
    "print(t1.count(3))\n",
    "print(t1.count(1))\n",
    "print(t1.count(5))"
   ]
  },
  {
   "cell_type": "code",
   "execution_count": 3,
   "id": "3a85607b",
   "metadata": {},
   "outputs": [
    {
     "name": "stdout",
     "output_type": "stream",
     "text": [
      "4\n"
     ]
    }
   ],
   "source": [
    "print(t1.index(5))"
   ]
  },
  {
   "cell_type": "code",
   "execution_count": 2,
   "id": "bb24b6a6",
   "metadata": {},
   "outputs": [
    {
     "name": "stdout",
     "output_type": "stream",
     "text": [
      "4\n",
      "3\n",
      "2\n"
     ]
    }
   ],
   "source": [
    "# tuple\n",
    "# count indexing\n",
    "t1=(1,2,3,4,5,6,7,8,9,1,2,3,2,1,2,4,4,56,5,7)\n",
    "print(t1.count(2))\n",
    "print(t1.count(1))\n",
    "print(t1.count(3))"
   ]
  },
  {
   "cell_type": "code",
   "execution_count": 5,
   "id": "03796bd5",
   "metadata": {},
   "outputs": [
    {
     "name": "stdout",
     "output_type": "stream",
     "text": [
      "8\n",
      "3\n"
     ]
    }
   ],
   "source": [
    "s1=(1,2,3,4,5,6,7,8,9)\n",
    "print(s1.index(9))\n",
    "print(s1.index(4))"
   ]
  },
  {
   "cell_type": "code",
   "execution_count": 6,
   "id": "e509428a",
   "metadata": {},
   "outputs": [
    {
     "name": "stdout",
     "output_type": "stream",
     "text": [
      "bananan\n",
      "cherry\n",
      "apple\n"
     ]
    }
   ],
   "source": [
    "fruits=('bananan','cherry','apple')\n",
    "(a,b,c)=fruits\n",
    "print(a)\n",
    "print(b)\n",
    "print(c)"
   ]
  },
  {
   "cell_type": "code",
   "execution_count": 8,
   "id": "613743c0",
   "metadata": {},
   "outputs": [
    {
     "name": "stdout",
     "output_type": "stream",
     "text": [
      "bananan\n",
      "cherry\n",
      "['apple', 'cherry']\n"
     ]
    }
   ],
   "source": [
    "fruits=('bananan','cherry','apple','cherry')\n",
    "(a,b,*c)=fruits\n",
    "print(a)\n",
    "print(b)\n",
    "print(c)"
   ]
  },
  {
   "cell_type": "code",
   "execution_count": 9,
   "id": "2cf0a7ac",
   "metadata": {},
   "outputs": [
    {
     "name": "stdout",
     "output_type": "stream",
     "text": [
      "(1, 2, 3, 34, 1, 2, 3, 34)\n"
     ]
    }
   ],
   "source": [
    "a=(1,2,3,34)\n",
    "c=a*2\n",
    "print(c)"
   ]
  },
  {
   "cell_type": "code",
   "execution_count": 1,
   "id": "d13ccb34",
   "metadata": {},
   "outputs": [
    {
     "name": "stdout",
     "output_type": "stream",
     "text": [
      "<class 'tuple'>\n",
      "(1, 2, 3, 4, 5, 6, 7)\n"
     ]
    }
   ],
   "source": [
    "tuple1=(1,2,3,4,5,6,7)\n",
    "print(type(tuple1))\n",
    "print(tuple1)"
   ]
  },
  {
   "cell_type": "code",
   "execution_count": 4,
   "id": "01291681",
   "metadata": {},
   "outputs": [
    {
     "name": "stdout",
     "output_type": "stream",
     "text": [
      "[1, 2, 3, 4, 5, 6]\n"
     ]
    }
   ],
   "source": [
    "c=int(input())\n",
    "d=[]\n",
    "for i in range(c):\n",
    "    a=int(input())\n",
    "    d.append(a)\n",
    "print(d)    "
   ]
  },
  {
   "cell_type": "code",
   "execution_count": 5,
   "id": "b3ab2bd9",
   "metadata": {},
   "outputs": [
    {
     "name": "stdout",
     "output_type": "stream",
     "text": [
      "[0, 1, 2, 3, 4, 5, 6, 7, 8, 9]\n"
     ]
    }
   ],
   "source": [
    "c=int(input())\n",
    "d=[]\n",
    "for i in range(c):\n",
    "   \n",
    "    d.append(i)\n",
    "print(d)    "
   ]
  },
  {
   "cell_type": "code",
   "execution_count": 12,
   "id": "6ccf4cf5",
   "metadata": {},
   "outputs": [
    {
     "name": "stdout",
     "output_type": "stream",
     "text": [
      "2\n",
      "4\n",
      "3\n",
      "2\n"
     ]
    }
   ],
   "source": [
    "x=(0, 1, 2, 3, 4, 5, 6, 7,1,2,1,2, 8, 9)\n",
    "print(x[2])\n",
    "print(x[4])\n",
    "print(x.count(2))\n",
    "print(x.index(2))"
   ]
  },
  {
   "cell_type": "code",
   "execution_count": 17,
   "id": "e0ffafbc",
   "metadata": {},
   "outputs": [
    {
     "name": "stdout",
     "output_type": "stream",
     "text": [
      "2\n",
      "1\n",
      "[3, 2, 3]\n"
     ]
    }
   ],
   "source": [
    "a=(1,2,3,2,3)\n",
    "(one,two,*three)=a\n",
    "print(two)\n",
    "print(one)\n",
    "print(three)"
   ]
  },
  {
   "cell_type": "code",
   "execution_count": 14,
   "id": "064169ac",
   "metadata": {},
   "outputs": [
    {
     "data": {
      "text/plain": [
       "(1, 2, 3, 1, 2, 3)"
      ]
     },
     "execution_count": 14,
     "metadata": {},
     "output_type": "execute_result"
    }
   ],
   "source": [
    "t1=(1,2,3)\n",
    "t2=t1*2\n",
    "t2"
   ]
  },
  {
   "cell_type": "code",
   "execution_count": 16,
   "id": "55807049",
   "metadata": {},
   "outputs": [
    {
     "data": {
      "text/plain": [
       "(1, 2, 3, 4, 5, 6, 7, 8)"
      ]
     },
     "execution_count": 16,
     "metadata": {},
     "output_type": "execute_result"
    }
   ],
   "source": [
    "a=(1,2,3,4)\n",
    "b=(5,6,7,8)\n",
    "c=a+b\n",
    "c"
   ]
  },
  {
   "cell_type": "code",
   "execution_count": null,
   "id": "86c5059f",
   "metadata": {},
   "outputs": [],
   "source": []
  }
 ],
 "metadata": {
  "kernelspec": {
   "display_name": "base",
   "language": "python",
   "name": "python3"
  },
  "language_info": {
   "codemirror_mode": {
    "name": "ipython",
    "version": 3
   },
   "file_extension": ".py",
   "mimetype": "text/x-python",
   "name": "python",
   "nbconvert_exporter": "python",
   "pygments_lexer": "ipython3",
   "version": "3.12.7"
  }
 },
 "nbformat": 4,
 "nbformat_minor": 5
}
