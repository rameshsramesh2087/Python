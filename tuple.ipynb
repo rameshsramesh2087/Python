{
 "cells": [
  {
   "cell_type": "code",
   "execution_count": 2,
   "id": "87affbfa",
   "metadata": {},
   "outputs": [
    {
     "name": "stdout",
     "output_type": "stream",
     "text": [
      "2\n",
      "1\n",
      "2\n"
     ]
    }
   ],
   "source": [
    "# tuple\n",
    "t1=(1,2,3,4,5,6,7,2,7,6,8,9,6,2,3,5,8)\n",
    "print(t1.count(3))\n",
    "print(t1.count(1))\n",
    "print(t1.count(5))"
   ]
  },
  {
   "cell_type": "code",
   "execution_count": 3,
   "id": "3a85607b",
   "metadata": {},
   "outputs": [
    {
     "name": "stdout",
     "output_type": "stream",
     "text": [
      "4\n"
     ]
    }
   ],
   "source": [
    "print(t1.index(5))"
   ]
  },
  {
   "cell_type": "code",
   "execution_count": 2,
   "id": "bb24b6a6",
   "metadata": {},
   "outputs": [
    {
     "name": "stdout",
     "output_type": "stream",
     "text": [
      "4\n",
      "3\n",
      "2\n"
     ]
    }
   ],
   "source": [
    "# tuple\n",
    "# count indexing\n",
    "t1=(1,2,3,4,5,6,7,8,9,1,2,3,2,1,2,4,4,56,5,7)\n",
    "print(t1.count(2))\n",
    "print(t1.count(1))\n",
    "print(t1.count(3))"
   ]
  },
  {
   "cell_type": "code",
   "execution_count": 5,
   "id": "03796bd5",
   "metadata": {},
   "outputs": [
    {
     "name": "stdout",
     "output_type": "stream",
     "text": [
      "8\n",
      "3\n"
     ]
    }
   ],
   "source": [
    "s1=(1,2,3,4,5,6,7,8,9)\n",
    "print(s1.index(9))\n",
    "print(s1.index(4))"
   ]
  },
  {
   "cell_type": "code",
   "execution_count": 6,
   "id": "e509428a",
   "metadata": {},
   "outputs": [
    {
     "name": "stdout",
     "output_type": "stream",
     "text": [
      "bananan\n",
      "cherry\n",
      "apple\n"
     ]
    }
   ],
   "source": [
    "fruits=('bananan','cherry','apple')\n",
    "(a,b,c)=fruits\n",
    "print(a)\n",
    "print(b)\n",
    "print(c)"
   ]
  },
  {
   "cell_type": "code",
   "execution_count": 8,
   "id": "613743c0",
   "metadata": {},
   "outputs": [
    {
     "name": "stdout",
     "output_type": "stream",
     "text": [
      "bananan\n",
      "cherry\n",
      "['apple', 'cherry']\n"
     ]
    }
   ],
   "source": [
    "fruits=('bananan','cherry','apple','cherry')\n",
    "(a,b,*c)=fruits\n",
    "print(a)\n",
    "print(b)\n",
    "print(c)"
   ]
  },
  {
   "cell_type": "code",
   "execution_count": 9,
   "id": "2cf0a7ac",
   "metadata": {},
   "outputs": [
    {
     "name": "stdout",
     "output_type": "stream",
     "text": [
      "(1, 2, 3, 34, 1, 2, 3, 34)\n"
     ]
    }
   ],
   "source": [
    "a=(1,2,3,34)\n",
    "c=a*2\n",
    "print(c)"
   ]
  },
  {
   "cell_type": "code",
   "execution_count": null,
   "id": "d13ccb34",
   "metadata": {},
   "outputs": [],
   "source": []
  }
 ],
 "metadata": {
  "kernelspec": {
   "display_name": "base",
   "language": "python",
   "name": "python3"
  },
  "language_info": {
   "codemirror_mode": {
    "name": "ipython",
    "version": 3
   },
   "file_extension": ".py",
   "mimetype": "text/x-python",
   "name": "python",
   "nbconvert_exporter": "python",
   "pygments_lexer": "ipython3",
   "version": "3.12.7"
  }
 },
 "nbformat": 4,
 "nbformat_minor": 5
}
